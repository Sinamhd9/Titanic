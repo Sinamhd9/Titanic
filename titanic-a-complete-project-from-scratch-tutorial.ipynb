{
 "cells": [
  {
   "cell_type": "markdown",
   "metadata": {
    "papermill": {
     "duration": 0.040881,
     "end_time": "2020-10-12T04:53:31.759647",
     "exception": false,
     "start_time": "2020-10-12T04:53:31.718766",
     "status": "completed"
    },
    "tags": []
   },
   "source": [
    "<h1><center>Titanic: A complete project from scratch: Data analysis, visualization, and modeling</center></h1>\n",
    "<center><img src=\"https://www.rd.com/wp-content/uploads/2019/08/auction-of-titanic-travel-brochures-wiltshire-uk-apr-2017-e1567006087133-760x506.jpg\"></center>\n"
   ]
  },
  {
   "cell_type": "markdown",
   "metadata": {
    "papermill": {
     "duration": 0.031697,
     "end_time": "2020-10-12T04:53:31.825306",
     "exception": false,
     "start_time": "2020-10-12T04:53:31.793609",
     "status": "completed"
    },
    "tags": []
   },
   "source": [
    "<div class=\"list-group\" id=\"list-tab\" role=\"tablist\">\n",
    "<h2 class=\"list-group-item list-group-item-action active\" data-toggle=\"list\" style='background:red; border:0; color:white' role=\"tab\" aria-controls=\"home\"><center>Quick navigation</center></h2>\n",
    "\n",
    "    \n",
    "    \n",
    "* [Problem Description](#1)\n",
    "* [Explanatory Data Analysis (EDA)](#2)\n",
    "    - [New feature (Title)](#21)\n",
    "    - [Missing Values](#22)\n",
    "        - [Cabin](#221)\n",
    "        - [Embarked and Fare](#222)\n",
    "        - [Age](#223)\n",
    "    - [Exploring features](#23)\n",
    "        - [Sex](#231)\n",
    "        - [Ticket class (Pclass)](#232)\n",
    "        - [Number of Siblings/Spouses](#233)\n",
    "        - [Number of Parents/Children](#234)\n",
    "        - [Embarked](#235)\n",
    "        - [Fare](#236)\n",
    "        - [Ticket, Name, PassengerID](#237)\n",
    "* [Training](#3)\n",
    "    - [Defining our classifiers](#31)\n",
    "        - [Logistic Regression (from scratch)](#311)\n",
    "        - [Least Square Ridge Classifier (from scratch)](#312)\n",
    "        - [Preprocess](#313)\n",
    "        - [Train and validate (KFold)](#314)\n",
    "    - [Scikit-learn models](#32)\n",
    "        - [Hyperparameter tuning](#321)\n",
    "        - [Random Forest Classifier](#322)\n",
    "        - [Logistic Regression Classifier](#323)\n",
    "        - [XGBoost Classifier](#324)\n",
    "    - [Deep Neural Network with Keras](#33)\n",
    "    - [Voting Classifier](#34)\n",
    "* [Summary](#4)\n"
   ]
  },
  {
   "cell_type": "markdown",
   "metadata": {
    "id": "FNfTZbguKH_J",
    "papermill": {
     "duration": 0.035297,
     "end_time": "2020-10-12T04:53:31.893611",
     "exception": false,
     "start_time": "2020-10-12T04:53:31.858314",
     "status": "completed"
    },
    "tags": []
   },
   "source": [
    "<a id=\"1\"></a>\n",
    "\n",
    "<div class=\"list-group\" id=\"list-tab\" role=\"tablist\">\n",
    "<h2 class=\"list-group-item list-group-item-action active\" data-toggle=\"list\" style='background:red; border:0; color:white' role=\"tab\" aria-controls=\"home\"><center>Problem Description</center></h2>\n",
    "    \n",
    "The dataset in this project is called \"Titanic: Machine Learning from Disaster\". There are some information from the passengers such as age, sex, fare and survival. The dataset consists of different types of variables such as numerical integer, float, categorical and strings. Furthermore, some features have missing values.  \n",
    "\n",
    "Different libraries will be used to perform explatory data analysis and visulaization such as Pandas, numpy, matplotlib and seaborn. A Logistic Regression and a Least Square Ridge classifier will be implemented from scracth to model the data.\n",
    "\n",
    "The goal of this project is to investigate different data wrangling approaches to gereneate a decent dataset from raw data, and then train a classifier to predict the survival of Titanic passengers. \n",
    "\n",
    "It should be noted that the project is not investigating a causal relationship between features (sex, age, etc.) and the target (survival), but only the predictive power of such features. Can this data reveal some information about the culture of that era? For example, is it true that Victorain era people would let the women, children, and elderly on to lifeboats first? Let's figure this out :)"
   ]
  },
  {
   "cell_type": "markdown",
   "metadata": {
    "id": "_mYhm3IV0SFO",
    "papermill": {
     "duration": 0.032435,
     "end_time": "2020-10-12T04:53:31.958359",
     "exception": false,
     "start_time": "2020-10-12T04:53:31.925924",
     "status": "completed"
    },
    "tags": []
   },
   "source": [
    "<a id=\"2\"></a>\n",
    "<div class=\"list-group\" id=\"list-tab\" role=\"tablist\">\n",
    "<h2 class=\"list-group-item list-group-item-action active\" data-toggle=\"list\" style='background:red; border:0; color:white' role=\"tab\" aria-controls=\"home\"><center>Explanatory Data Analysis (EDA)</center></h2>\n",
    "In this section, we first merge the training data and test data to show the complete dataset. In the table below, a summary of full data is displayed as well as some information and statistics about the data. For example, we can see the minimum age of passengers was 0.17 (8 weeks). (It is interesting to mention that Elizabeth Gladys 'Millvina' Dean was the youngest survivor of Titanic who died last among all passengers (at age of 97). We can see the most expensive ticket was 512 pounds! It was bought by Mrs James Warburton Martinez Cardeza (Charlotte Wardle Drake) for three cabins of B51, B53 and B55. Why did she book three seats? Wait, there is another person with the same cabin number and fare. Mr. Thomas Drake Martinez  Cardeza. The parch feature shows the number of parents or childern aboard. Since both have 1 in this feature and the age of Thomas is less than Charlotte, we can say Thomas was her son. There is another person who paid the same fare, it was for their servant Miss Anna ward. Hopefully, they all survived. \n",
    "\n",
    "Anyway, in the figure below, we can see the missing values of each feature. For example, we can see the cabin feature has a lot of missing values. For example, the cabin feature of Miss Anna Ward is missing, but we know now it should be B51, B53 and B55.\n",
    "\n",
    "We can also see the number of missing values of each feature below the figure. "
   ]
  },
  {
   "cell_type": "code",
   "execution_count": 1,
   "metadata": {
    "execution": {
     "iopub.execute_input": "2020-10-12T04:53:32.031794Z",
     "iopub.status.busy": "2020-10-12T04:53:32.031100Z",
     "iopub.status.idle": "2020-10-12T04:53:34.242008Z",
     "shell.execute_reply": "2020-10-12T04:53:34.241223Z"
    },
    "id": "E1wSHDAmKA4l",
    "papermill": {
     "duration": 2.251237,
     "end_time": "2020-10-12T04:53:34.242138",
     "exception": false,
     "start_time": "2020-10-12T04:53:31.990901",
     "status": "completed"
    },
    "tags": []
   },
   "outputs": [],
   "source": [
    "# Importing useful libararies\n",
    "\n",
    "import warnings\n",
    "warnings.filterwarnings(\"ignore\")\n",
    "\n",
    "import numpy as np  \n",
    "import pandas as pd    \n",
    "import seaborn as sns  \n",
    "import matplotlib.pyplot as plt  \n",
    "from sklearn.preprocessing import MinMaxScaler\n",
    "from sklearn.model_selection import train_test_split, KFold, cross_val_score\n",
    "from sklearn.ensemble import RandomForestClassifier\n",
    "from xgboost import XGBClassifier\n",
    "from sklearn.linear_model import LogisticRegression\n",
    "from time import time"
   ]
  },
  {
   "cell_type": "code",
   "execution_count": 2,
   "metadata": {
    "execution": {
     "iopub.execute_input": "2020-10-12T04:53:34.321419Z",
     "iopub.status.busy": "2020-10-12T04:53:34.320517Z",
     "iopub.status.idle": "2020-10-12T04:53:34.834050Z",
     "shell.execute_reply": "2020-10-12T04:53:34.833505Z"
    },
    "id": "MNUeZaL_LTJ2",
    "outputId": "520770d9-c4f0-4aa4-fa29-c00eb41c05b3",
    "papermill": {
     "duration": 0.557804,
     "end_time": "2020-10-12T04:53:34.834162",
     "exception": false,
     "start_time": "2020-10-12T04:53:34.276358",
     "status": "completed"
    },
    "tags": []
   },
   "outputs": [
    {
     "name": "stdout",
     "output_type": "stream",
     "text": [
      "Titanic Dataset Summary:\n"
     ]
    },
    {
     "data": {
      "text/html": [
       "<div>\n",
       "<style scoped>\n",
       "    .dataframe tbody tr th:only-of-type {\n",
       "        vertical-align: middle;\n",
       "    }\n",
       "\n",
       "    .dataframe tbody tr th {\n",
       "        vertical-align: top;\n",
       "    }\n",
       "\n",
       "    .dataframe thead th {\n",
       "        text-align: right;\n",
       "    }\n",
       "</style>\n",
       "<table border=\"1\" class=\"dataframe\">\n",
       "  <thead>\n",
       "    <tr style=\"text-align: right;\">\n",
       "      <th></th>\n",
       "      <th>PassengerId</th>\n",
       "      <th>Survived</th>\n",
       "      <th>Pclass</th>\n",
       "      <th>Name</th>\n",
       "      <th>Sex</th>\n",
       "      <th>Age</th>\n",
       "      <th>SibSp</th>\n",
       "      <th>Parch</th>\n",
       "      <th>Ticket</th>\n",
       "      <th>Fare</th>\n",
       "      <th>Cabin</th>\n",
       "      <th>Embarked</th>\n",
       "    </tr>\n",
       "  </thead>\n",
       "  <tbody>\n",
       "    <tr>\n",
       "      <th>0</th>\n",
       "      <td>1</td>\n",
       "      <td>0.0</td>\n",
       "      <td>3</td>\n",
       "      <td>Braund, Mr. Owen Harris</td>\n",
       "      <td>male</td>\n",
       "      <td>22.0</td>\n",
       "      <td>1</td>\n",
       "      <td>0</td>\n",
       "      <td>A/5 21171</td>\n",
       "      <td>7.2500</td>\n",
       "      <td>NaN</td>\n",
       "      <td>S</td>\n",
       "    </tr>\n",
       "    <tr>\n",
       "      <th>1</th>\n",
       "      <td>2</td>\n",
       "      <td>1.0</td>\n",
       "      <td>1</td>\n",
       "      <td>Cumings, Mrs. John Bradley (Florence Briggs Th...</td>\n",
       "      <td>female</td>\n",
       "      <td>38.0</td>\n",
       "      <td>1</td>\n",
       "      <td>0</td>\n",
       "      <td>PC 17599</td>\n",
       "      <td>71.2833</td>\n",
       "      <td>C85</td>\n",
       "      <td>C</td>\n",
       "    </tr>\n",
       "    <tr>\n",
       "      <th>2</th>\n",
       "      <td>3</td>\n",
       "      <td>1.0</td>\n",
       "      <td>3</td>\n",
       "      <td>Heikkinen, Miss. Laina</td>\n",
       "      <td>female</td>\n",
       "      <td>26.0</td>\n",
       "      <td>0</td>\n",
       "      <td>0</td>\n",
       "      <td>STON/O2. 3101282</td>\n",
       "      <td>7.9250</td>\n",
       "      <td>NaN</td>\n",
       "      <td>S</td>\n",
       "    </tr>\n",
       "    <tr>\n",
       "      <th>3</th>\n",
       "      <td>4</td>\n",
       "      <td>1.0</td>\n",
       "      <td>1</td>\n",
       "      <td>Futrelle, Mrs. Jacques Heath (Lily May Peel)</td>\n",
       "      <td>female</td>\n",
       "      <td>35.0</td>\n",
       "      <td>1</td>\n",
       "      <td>0</td>\n",
       "      <td>113803</td>\n",
       "      <td>53.1000</td>\n",
       "      <td>C123</td>\n",
       "      <td>S</td>\n",
       "    </tr>\n",
       "    <tr>\n",
       "      <th>4</th>\n",
       "      <td>5</td>\n",
       "      <td>0.0</td>\n",
       "      <td>3</td>\n",
       "      <td>Allen, Mr. William Henry</td>\n",
       "      <td>male</td>\n",
       "      <td>35.0</td>\n",
       "      <td>0</td>\n",
       "      <td>0</td>\n",
       "      <td>373450</td>\n",
       "      <td>8.0500</td>\n",
       "      <td>NaN</td>\n",
       "      <td>S</td>\n",
       "    </tr>\n",
       "  </tbody>\n",
       "</table>\n",
       "</div>"
      ],
      "text/plain": [
       "   PassengerId  Survived  Pclass  \\\n",
       "0            1       0.0       3   \n",
       "1            2       1.0       1   \n",
       "2            3       1.0       3   \n",
       "3            4       1.0       1   \n",
       "4            5       0.0       3   \n",
       "\n",
       "                                                Name     Sex   Age  SibSp  \\\n",
       "0                            Braund, Mr. Owen Harris    male  22.0      1   \n",
       "1  Cumings, Mrs. John Bradley (Florence Briggs Th...  female  38.0      1   \n",
       "2                             Heikkinen, Miss. Laina  female  26.0      0   \n",
       "3       Futrelle, Mrs. Jacques Heath (Lily May Peel)  female  35.0      1   \n",
       "4                           Allen, Mr. William Henry    male  35.0      0   \n",
       "\n",
       "   Parch            Ticket     Fare Cabin Embarked  \n",
       "0      0         A/5 21171   7.2500   NaN        S  \n",
       "1      0          PC 17599  71.2833   C85        C  \n",
       "2      0  STON/O2. 3101282   7.9250   NaN        S  \n",
       "3      0            113803  53.1000  C123        S  \n",
       "4      0            373450   8.0500   NaN        S  "
      ]
     },
     "metadata": {},
     "output_type": "display_data"
    },
    {
     "name": "stdout",
     "output_type": "stream",
     "text": [
      "Stats of some features:\n"
     ]
    },
    {
     "data": {
      "text/html": [
       "<div>\n",
       "<style scoped>\n",
       "    .dataframe tbody tr th:only-of-type {\n",
       "        vertical-align: middle;\n",
       "    }\n",
       "\n",
       "    .dataframe tbody tr th {\n",
       "        vertical-align: top;\n",
       "    }\n",
       "\n",
       "    .dataframe thead th {\n",
       "        text-align: right;\n",
       "    }\n",
       "</style>\n",
       "<table border=\"1\" class=\"dataframe\">\n",
       "  <thead>\n",
       "    <tr style=\"text-align: right;\">\n",
       "      <th></th>\n",
       "      <th>PassengerId</th>\n",
       "      <th>Survived</th>\n",
       "      <th>Pclass</th>\n",
       "      <th>Age</th>\n",
       "      <th>SibSp</th>\n",
       "      <th>Parch</th>\n",
       "      <th>Fare</th>\n",
       "    </tr>\n",
       "  </thead>\n",
       "  <tbody>\n",
       "    <tr>\n",
       "      <th>count</th>\n",
       "      <td>1309.000000</td>\n",
       "      <td>891.000000</td>\n",
       "      <td>1309.000000</td>\n",
       "      <td>1046.000000</td>\n",
       "      <td>1309.000000</td>\n",
       "      <td>1309.000000</td>\n",
       "      <td>1308.000000</td>\n",
       "    </tr>\n",
       "    <tr>\n",
       "      <th>mean</th>\n",
       "      <td>655.000000</td>\n",
       "      <td>0.383838</td>\n",
       "      <td>2.294882</td>\n",
       "      <td>29.881138</td>\n",
       "      <td>0.498854</td>\n",
       "      <td>0.385027</td>\n",
       "      <td>33.295479</td>\n",
       "    </tr>\n",
       "    <tr>\n",
       "      <th>std</th>\n",
       "      <td>378.020061</td>\n",
       "      <td>0.486592</td>\n",
       "      <td>0.837836</td>\n",
       "      <td>14.413493</td>\n",
       "      <td>1.041658</td>\n",
       "      <td>0.865560</td>\n",
       "      <td>51.758668</td>\n",
       "    </tr>\n",
       "    <tr>\n",
       "      <th>min</th>\n",
       "      <td>1.000000</td>\n",
       "      <td>0.000000</td>\n",
       "      <td>1.000000</td>\n",
       "      <td>0.170000</td>\n",
       "      <td>0.000000</td>\n",
       "      <td>0.000000</td>\n",
       "      <td>0.000000</td>\n",
       "    </tr>\n",
       "    <tr>\n",
       "      <th>25%</th>\n",
       "      <td>328.000000</td>\n",
       "      <td>0.000000</td>\n",
       "      <td>2.000000</td>\n",
       "      <td>21.000000</td>\n",
       "      <td>0.000000</td>\n",
       "      <td>0.000000</td>\n",
       "      <td>7.895800</td>\n",
       "    </tr>\n",
       "    <tr>\n",
       "      <th>50%</th>\n",
       "      <td>655.000000</td>\n",
       "      <td>0.000000</td>\n",
       "      <td>3.000000</td>\n",
       "      <td>28.000000</td>\n",
       "      <td>0.000000</td>\n",
       "      <td>0.000000</td>\n",
       "      <td>14.454200</td>\n",
       "    </tr>\n",
       "    <tr>\n",
       "      <th>75%</th>\n",
       "      <td>982.000000</td>\n",
       "      <td>1.000000</td>\n",
       "      <td>3.000000</td>\n",
       "      <td>39.000000</td>\n",
       "      <td>1.000000</td>\n",
       "      <td>0.000000</td>\n",
       "      <td>31.275000</td>\n",
       "    </tr>\n",
       "    <tr>\n",
       "      <th>max</th>\n",
       "      <td>1309.000000</td>\n",
       "      <td>1.000000</td>\n",
       "      <td>3.000000</td>\n",
       "      <td>80.000000</td>\n",
       "      <td>8.000000</td>\n",
       "      <td>9.000000</td>\n",
       "      <td>512.329200</td>\n",
       "    </tr>\n",
       "  </tbody>\n",
       "</table>\n",
       "</div>"
      ],
      "text/plain": [
       "       PassengerId    Survived       Pclass          Age        SibSp  \\\n",
       "count  1309.000000  891.000000  1309.000000  1046.000000  1309.000000   \n",
       "mean    655.000000    0.383838     2.294882    29.881138     0.498854   \n",
       "std     378.020061    0.486592     0.837836    14.413493     1.041658   \n",
       "min       1.000000    0.000000     1.000000     0.170000     0.000000   \n",
       "25%     328.000000    0.000000     2.000000    21.000000     0.000000   \n",
       "50%     655.000000    0.000000     3.000000    28.000000     0.000000   \n",
       "75%     982.000000    1.000000     3.000000    39.000000     1.000000   \n",
       "max    1309.000000    1.000000     3.000000    80.000000     8.000000   \n",
       "\n",
       "             Parch         Fare  \n",
       "count  1309.000000  1308.000000  \n",
       "mean      0.385027    33.295479  \n",
       "std       0.865560    51.758668  \n",
       "min       0.000000     0.000000  \n",
       "25%       0.000000     7.895800  \n",
       "50%       0.000000    14.454200  \n",
       "75%       0.000000    31.275000  \n",
       "max       9.000000   512.329200  "
      ]
     },
     "metadata": {},
     "output_type": "display_data"
    },
    {
     "name": "stdout",
     "output_type": "stream",
     "text": [
      "<class 'pandas.core.frame.DataFrame'>\n",
      "RangeIndex: 1309 entries, 0 to 1308\n",
      "Data columns (total 12 columns):\n",
      " #   Column       Non-Null Count  Dtype  \n",
      "---  ------       --------------  -----  \n",
      " 0   PassengerId  1309 non-null   int64  \n",
      " 1   Survived     891 non-null    float64\n",
      " 2   Pclass       1309 non-null   int64  \n",
      " 3   Name         1309 non-null   object \n",
      " 4   Sex          1309 non-null   object \n",
      " 5   Age          1046 non-null   float64\n",
      " 6   SibSp        1309 non-null   int64  \n",
      " 7   Parch        1309 non-null   int64  \n",
      " 8   Ticket       1309 non-null   object \n",
      " 9   Fare         1308 non-null   float64\n",
      " 10  Cabin        295 non-null    object \n",
      " 11  Embarked     1307 non-null   object \n",
      "dtypes: float64(3), int64(4), object(5)\n",
      "memory usage: 122.8+ KB\n",
      "None\n"
     ]
    },
    {
     "data": {
      "image/png": "[encoded data removed]",
      "text/plain": [
       "<Figure size 576x360 with 2 Axes>"
      ]
     },
     "metadata": {
      "needs_background": "light"
     },
     "output_type": "display_data"
    },
    {
     "name": "stdout",
     "output_type": "stream",
     "text": [
      "Number of missing values in 1309 examples\n"
     ]
    },
    {
     "data": {
      "text/plain": [
       "PassengerId       0\n",
       "Survived        418\n",
       "Pclass            0\n",
       "Name              0\n",
       "Sex               0\n",
       "Age             263\n",
       "SibSp             0\n",
       "Parch             0\n",
       "Ticket            0\n",
       "Fare              1\n",
       "Cabin          1014\n",
       "Embarked          2\n",
       "dtype: int64"
      ]
     },
     "metadata": {},
     "output_type": "display_data"
    }
   ],
   "source": [
    "df_train = pd.read_csv(\"/kaggle/input/titanic/train.csv\")     #Loading train data\n",
    "df_test = pd.read_csv(\"/kaggle/input/titanic/test.csv\")      #Loading test data\n",
    "df_sample_sub = pd.read_csv(\"/kaggle/input/titanic/gender_submission.csv\")  #Loading sample submission data\n",
    "\n",
    "df_all = df_train.append(df_test, ignore_index=True)     # Merging df_train and df_test dataframes\n",
    "\n",
    "print(\"Titanic Dataset Summary:\")\n",
    "display(df_all.head())\n",
    "\n",
    "print(\"Stats of some features:\")\n",
    "display(df_all.describe())\n",
    "\n",
    "print(df_all.info())\n",
    "\n",
    "plt.figure(figsize=(8,5))\n",
    "sns.heatmap(df_all.isnull())                     # Heatmap of missing values\n",
    "plt.show()\n",
    "\n",
    "m = df_all.shape[0]\n",
    "print('Number of missing values in',m, 'examples')\n",
    "display(df_all.isnull().sum())           # Number of missing values\n"
   ]
  },
  {
   "cell_type": "markdown",
   "metadata": {
    "papermill": {
     "duration": 0.035982,
     "end_time": "2020-10-12T04:53:34.908117",
     "exception": false,
     "start_time": "2020-10-12T04:53:34.872135",
     "status": "completed"
    },
    "tags": []
   },
   "source": [
    "Please note that the Survival (target) missing values are because of the test dataset."
   ]
  },
  {
   "cell_type": "markdown",
   "metadata": {
    "id": "DBVio9LurzZP",
    "papermill": {
     "duration": 0.036798,
     "end_time": "2020-10-12T04:53:34.981268",
     "exception": false,
     "start_time": "2020-10-12T04:53:34.944470",
     "status": "completed"
    },
    "tags": []
   },
   "source": [
    "<a id=\"21\"></a>\n",
    "\n",
    "## New feature (Title)\n",
    "\n",
    "Should we ignore the names? I would say no, because we can extract the titles from the names. Based on <a href=\"https://medium.com/i-like-big-data-and-i-cannot-lie/how-i-scored-in-the-top-9-of-kaggles-titanic-machine-learning-challenge-243b5f45c8e9\">this post</a>, we extract the titles and generlize them into six categories of Mr, Master, Miss, Mrs, Officer and Royalty. For example, anyone with title of Sir, or Don, or Lady is considered a royalty. \n",
    "We can see the number of each category below."
   ]
  },
  {
   "cell_type": "code",
   "execution_count": 3,
   "metadata": {
    "execution": {
     "iopub.execute_input": "2020-10-12T04:53:35.067889Z",
     "iopub.status.busy": "2020-10-12T04:53:35.067193Z",
     "iopub.status.idle": "2020-10-12T04:53:35.076324Z",
     "shell.execute_reply": "2020-10-12T04:53:35.075757Z"
    },
    "id": "yUy-Db7Z-2Cr",
    "outputId": "3f4b0f88-f1b5-4ba6-9a28-3a7f6335ce24",
    "papermill": {
     "duration": 0.057671,
     "end_time": "2020-10-12T04:53:35.076461",
     "exception": false,
     "start_time": "2020-10-12T04:53:35.018790",
     "status": "completed"
    },
    "tags": []
   },
   "outputs": [
    {
     "data": {
      "text/plain": [
       "0           Mr\n",
       "1          Mrs\n",
       "2         Miss\n",
       "3          Mrs\n",
       "4           Mr\n",
       "         ...  \n",
       "1304        Mr\n",
       "1305      Dona\n",
       "1306        Mr\n",
       "1307        Mr\n",
       "1308    Master\n",
       "Name: Title, Length: 1309, dtype: object"
      ]
     },
     "metadata": {},
     "output_type": "display_data"
    },
    {
     "data": {
      "text/plain": [
       "Mr         757\n",
       "Miss       262\n",
       "Mrs        200\n",
       "Master      61\n",
       "Officer     23\n",
       "Royalty      6\n",
       "Name: Title, dtype: int64"
      ]
     },
     "metadata": {},
     "output_type": "display_data"
    }
   ],
   "source": [
    "# creating a new feature (Title) by extracting title from the Name feature\n",
    "\n",
    "df_all['Title'] = df_all.Name.apply(lambda name: name.split(',')[1].split('.')[0].strip())\n",
    "display(df_all.Title)\n",
    "new_titles = {\n",
    "    \"Capt\":       \"Officer\",\n",
    "    \"Col\":        \"Officer\",\n",
    "    \"Major\":      \"Officer\",\n",
    "    \"Jonkheer\":   \"Royalty\",\n",
    "    \"Don\":        \"Royalty\",\n",
    "    \"Sir\" :       \"Royalty\",\n",
    "    \"Dr\":         \"Officer\",\n",
    "    \"Rev\":        \"Officer\",\n",
    "    \"the Countess\":\"Royalty\",\n",
    "    \"Dona\":       \"Royalty\",\n",
    "    \"Mme\":        \"Mrs\",\n",
    "    \"Mlle\":       \"Miss\",\n",
    "    \"Ms\":         \"Mrs\",\n",
    "    \"Mr\" :        \"Mr\",\n",
    "    \"Mrs\" :       \"Mrs\",\n",
    "    \"Miss\" :      \"Miss\",\n",
    "    \"Master\" :    \"Master\",\n",
    "    \"Lady\" :      \"Royalty\"\n",
    "}\n",
    "\n",
    "df_all.Title = df_all.Title.map(new_titles)\n",
    "display(df_all.Title.value_counts())\n"
   ]
  },
  {
   "cell_type": "markdown",
   "metadata": {
    "id": "SaopJMT1DLMn",
    "papermill": {
     "duration": 0.036621,
     "end_time": "2020-10-12T04:53:35.150215",
     "exception": false,
     "start_time": "2020-10-12T04:53:35.113594",
     "status": "completed"
    },
    "tags": []
   },
   "source": [
    "<a id=\"22\"></a>\n",
    "\n",
    "## Missing Values\n",
    "\n",
    "We showed earlier that there are 263 missing values for age, 1014 for cabin, 2 for embarked and 1 for fare among all 1308 examples. Let's see how we can address this issue. \n",
    "<a id=\"221\"></a>\n",
    "### Cabin\n",
    "Are cabin numbers important? Yes they can be. Some would say cabin numbers show the place of deck, and higher decks were closer to lifeboats. However, we have almost 80 percent missing data in cabin numbers. Let's do something simpler, create a new feature and assign 1 to whoever had a cabin number and zero to whoever didn't. Let's see how many of those with cabin number survived and how many of them had ticket class of 1, 2 or 3.\n"
   ]
  },
  {
   "cell_type": "code",
   "execution_count": 4,
   "metadata": {
    "execution": {
     "iopub.execute_input": "2020-10-12T04:53:35.260057Z",
     "iopub.status.busy": "2020-10-12T04:53:35.258050Z",
     "iopub.status.idle": "2020-10-12T04:53:35.532644Z",
     "shell.execute_reply": "2020-10-12T04:53:35.533212Z"
    },
    "id": "FsRCjjsKGLhG",
    "outputId": "8fa44413-b5c4-4daf-a6da-5228aac2cba0",
    "papermill": {
     "duration": 0.344775,
     "end_time": "2020-10-12T04:53:35.533370",
     "exception": false,
     "start_time": "2020-10-12T04:53:35.188595",
     "status": "completed"
    },
    "tags": []
   },
   "outputs": [
    {
     "data": {
      "image/png": "[encoded data removed]",
      "text/plain": [
       "<Figure size 720x432 with 2 Axes>"
      ]
     },
     "metadata": {
      "needs_background": "light"
     },
     "output_type": "display_data"
    }
   ],
   "source": [
    "df_all.Cabin = df_all.Cabin.fillna(0)\n",
    "for i in range(len(df_all.Cabin)): \n",
    "  if df_all.Cabin[i] != 0:\n",
    "    df_all.Cabin[i] = 1\n",
    "fig, axes = plt.subplots(1,2,figsize=(10,6))\n",
    "sns.countplot(df_all.Cabin, hue=df_all.Pclass, ax= axes[0])\n",
    "sns.countplot(df_all.Cabin, hue=df_all.Survived, ax= axes[1])\n",
    "plt.show()"
   ]
  },
  {
   "cell_type": "markdown",
   "metadata": {
    "id": "lJoqL49MJbXx",
    "papermill": {
     "duration": 0.038355,
     "end_time": "2020-10-12T04:53:35.610404",
     "exception": false,
     "start_time": "2020-10-12T04:53:35.572049",
     "status": "completed"
    },
    "tags": []
   },
   "source": [
    "Well, it seems having a cabin number is correlated with having a higher class ticket and also having higher survival! Most of the examples with cabin numbers had P-class of 1, and most of the people without cabin numbers are died. So we are going to keep this new feature. "
   ]
  },
  {
   "cell_type": "markdown",
   "metadata": {
    "id": "sm5xRrVtNCDg",
    "papermill": {
     "duration": 0.03755,
     "end_time": "2020-10-12T04:53:35.686089",
     "exception": false,
     "start_time": "2020-10-12T04:53:35.648539",
     "status": "completed"
    },
    "tags": []
   },
   "source": [
    "<a id=\"222\"></a>\n",
    "### Embarked and Fare\n",
    "There are only two missing values of embarked and Fare. We will fill the missing values for Embarked with the most frequent one, and use median for the one fare missing value. "
   ]
  },
  {
   "cell_type": "code",
   "execution_count": 5,
   "metadata": {
    "execution": {
     "iopub.execute_input": "2020-10-12T04:53:35.772852Z",
     "iopub.status.busy": "2020-10-12T04:53:35.772143Z",
     "iopub.status.idle": "2020-10-12T04:53:35.775529Z",
     "shell.execute_reply": "2020-10-12T04:53:35.774848Z"
    },
    "id": "XId66mnINhMc",
    "papermill": {
     "duration": 0.050476,
     "end_time": "2020-10-12T04:53:35.775648",
     "exception": false,
     "start_time": "2020-10-12T04:53:35.725172",
     "status": "completed"
    },
    "tags": []
   },
   "outputs": [],
   "source": [
    "most_embarked = df_all.Embarked.value_counts().index[0]\n",
    "df_all.Embarked = df_all.Embarked.fillna(most_embarked)\n",
    "df_all.Fare = df_all.Fare.fillna(df_all.Fare.median())\n"
   ]
  },
  {
   "cell_type": "markdown",
   "metadata": {
    "id": "NG0rv7_OPYKZ",
    "papermill": {
     "duration": 0.037764,
     "end_time": "2020-10-12T04:53:35.851728",
     "exception": false,
     "start_time": "2020-10-12T04:53:35.813964",
     "status": "completed"
    },
    "tags": []
   },
   "source": [
    "<a id=\"223\"></a>\n",
    "### Age\n",
    "There is about 20% missing value in Age. For sure, we are not going to discard age feature. We can fill the missing values with mean or median or something a bit more complex! Let's first see how is the distribution of our age parameter. The plot below shows how many of each sex survived in different age ranges. It also shows the overal distribution of age parameter. The distribution seems almost the same, however, we can see women had higher chance of survival in almost every age range. "
   ]
  },
  {
   "cell_type": "code",
   "execution_count": 6,
   "metadata": {
    "execution": {
     "iopub.execute_input": "2020-10-12T04:53:35.945915Z",
     "iopub.status.busy": "2020-10-12T04:53:35.945194Z",
     "iopub.status.idle": "2020-10-12T04:53:36.445889Z",
     "shell.execute_reply": "2020-10-12T04:53:36.445243Z"
    },
    "id": "EG60_JwlDDMa",
    "outputId": "2bbaa5dc-2c56-44cc-d307-d1ec38954965",
    "papermill": {
     "duration": 0.555428,
     "end_time": "2020-10-12T04:53:36.446008",
     "exception": false,
     "start_time": "2020-10-12T04:53:35.890580",
     "status": "completed"
    },
    "tags": []
   },
   "outputs": [
    {
     "data": {
      "image/png": "[encoded data removed]",
      "text/plain": [
       "<Figure size 576x360 with 1 Axes>"
      ]
     },
     "metadata": {
      "needs_background": "light"
     },
     "output_type": "display_data"
    },
    {
     "name": "stdout",
     "output_type": "stream",
     "text": [
      "count    1046.000000\n",
      "mean       29.881138\n",
      "std        14.413493\n",
      "min         0.170000\n",
      "25%        21.000000\n",
      "50%        28.000000\n",
      "75%        39.000000\n",
      "max        80.000000\n",
      "Name: Age, dtype: float64\n"
     ]
    },
    {
     "data": {
      "image/png": "[encoded data removed]",
      "text/plain": [
       "<Figure size 720x432 with 2 Axes>"
      ]
     },
     "metadata": {
      "needs_background": "light"
     },
     "output_type": "display_data"
    }
   ],
   "source": [
    "plt.figure(figsize=(8,5))\n",
    "sns.distplot(df_all[\"Age\"] ,color='black')\n",
    "plt.show()\n",
    "print(df_all.Age.describe())\n",
    "Age_cat = pd.cut(df_all.Age,bins=[0,10,20,30,40,50,60,70,80],labels=['0-10','10-20','20-30','30-40','40-50','50-60','60-70','70-80'])\n",
    "\n",
    "fig, axes = plt.subplots(1,2, figsize = (10,6))\n",
    "sns.countplot(Age_cat[(df_all.Sex=='female')],color= 'black',ax =axes[0])\n",
    "sns.countplot(Age_cat[(df_all.Survived ==1) & (df_all.Sex=='female')],color='pink',ax =axes[0]).set_title('Female')\n",
    "sns.countplot(Age_cat[(df_all.Sex=='male')],color= 'black',ax =axes[1])\n",
    "sns.countplot(Age_cat[(df_all.Survived ==1) & (df_all.Sex=='male')],color='blue', ax =axes[1]).set_title('Male')\n",
    "plt.show()"
   ]
  },
  {
   "cell_type": "markdown",
   "metadata": {
    "id": "CmxVnyHORR18",
    "papermill": {
     "duration": 0.039671,
     "end_time": "2020-10-12T04:53:36.525625",
     "exception": false,
     "start_time": "2020-10-12T04:53:36.485954",
     "status": "completed"
    },
    "tags": []
   },
   "source": [
    "Ok, we plotted the age range with respect to differnet sexes and survival. How about other features? Next, we will group the age variable with respect to sex, Pclass, and Title. We can see the median age for people in each group is different. For example, The median age for a Miss in Pclass of 3 is 18, while the median age for a male officer in Pclass of 1 is 52. Therefore, instead of filling out all the missing values with only one median, it makes better sense to fill the missing values of each person with respect to her title, gender, and Pclass. \n"
   ]
  },
  {
   "cell_type": "code",
   "execution_count": 7,
   "metadata": {
    "execution": {
     "iopub.execute_input": "2020-10-12T04:53:36.613365Z",
     "iopub.status.busy": "2020-10-12T04:53:36.612384Z",
     "iopub.status.idle": "2020-10-12T04:53:36.843379Z",
     "shell.execute_reply": "2020-10-12T04:53:36.842701Z"
    },
    "id": "raHeemRfQln6",
    "outputId": "dfe18c1b-8023-4930-d21c-1e9813742379",
    "papermill": {
     "duration": 0.2778,
     "end_time": "2020-10-12T04:53:36.843523",
     "exception": false,
     "start_time": "2020-10-12T04:53:36.565723",
     "status": "completed"
    },
    "tags": []
   },
   "outputs": [
    {
     "data": {
      "text/plain": [
       "Sex     Pclass  Title  \n",
       "female  1       Miss       30.0\n",
       "                Mrs        45.0\n",
       "                Officer    49.0\n",
       "                Royalty    39.0\n",
       "        2       Miss       20.0\n",
       "                Mrs        30.0\n",
       "        3       Miss       18.0\n",
       "                Mrs        31.0\n",
       "male    1       Master      6.0\n",
       "                Mr         41.5\n",
       "                Officer    52.0\n",
       "                Royalty    40.0\n",
       "        2       Master      2.0\n",
       "                Mr         30.0\n",
       "                Officer    41.5\n",
       "        3       Master      6.0\n",
       "                Mr         26.0\n",
       "Name: Age, dtype: float64"
      ]
     },
     "metadata": {},
     "output_type": "display_data"
    },
    {
     "data": {
      "image/png": "[encoded data removed]",
      "text/plain": [
       "<Figure size 720x432 with 1 Axes>"
      ]
     },
     "metadata": {
      "needs_background": "light"
     },
     "output_type": "display_data"
    }
   ],
   "source": [
    "grouped = df_all.groupby(['Sex','Pclass', 'Title'])  \n",
    "display(grouped.Age.median())\n",
    "plt.figure(figsize= (10,6))\n",
    "ax = grouped.Age.median().plot(kind='bar',color= 'black' )\n",
    "ax.set(ylabel = 'Median Age')\n",
    "plt.show()\n"
   ]
  },
  {
   "cell_type": "code",
   "execution_count": 8,
   "metadata": {
    "execution": {
     "iopub.execute_input": "2020-10-12T04:53:36.939239Z",
     "iopub.status.busy": "2020-10-12T04:53:36.932494Z",
     "iopub.status.idle": "2020-10-12T04:53:36.943113Z",
     "shell.execute_reply": "2020-10-12T04:53:36.942563Z"
    },
    "id": "ggh5-MhNTes0",
    "papermill": {
     "duration": 0.05794,
     "end_time": "2020-10-12T04:53:36.943242",
     "exception": false,
     "start_time": "2020-10-12T04:53:36.885302",
     "status": "completed"
    },
    "tags": []
   },
   "outputs": [],
   "source": [
    "df_all.Age = grouped.Age.apply(lambda x: x.fillna(x.median()))"
   ]
  },
  {
   "cell_type": "markdown",
   "metadata": {
    "id": "q3ztMPN0JZ4w",
    "papermill": {
     "duration": 0.041484,
     "end_time": "2020-10-12T04:53:37.026536",
     "exception": false,
     "start_time": "2020-10-12T04:53:36.985052",
     "status": "completed"
    },
    "tags": []
   },
   "source": [
    "Ok, now let's check the number of missing values once more.\n"
   ]
  },
  {
   "cell_type": "code",
   "execution_count": 9,
   "metadata": {
    "execution": {
     "iopub.execute_input": "2020-10-12T04:53:37.117257Z",
     "iopub.status.busy": "2020-10-12T04:53:37.116525Z",
     "iopub.status.idle": "2020-10-12T04:53:37.120633Z",
     "shell.execute_reply": "2020-10-12T04:53:37.121212Z"
    },
    "id": "25s_NgnGWgGv",
    "outputId": "d89c31ba-d5fe-43fc-ccf9-e24ce806823b",
    "papermill": {
     "duration": 0.053439,
     "end_time": "2020-10-12T04:53:37.121351",
     "exception": false,
     "start_time": "2020-10-12T04:53:37.067912",
     "status": "completed"
    },
    "tags": []
   },
   "outputs": [
    {
     "name": "stdout",
     "output_type": "stream",
     "text": [
      "Number of missing values in 1309 examples\n"
     ]
    },
    {
     "data": {
      "text/plain": [
       "PassengerId      0\n",
       "Survived       418\n",
       "Pclass           0\n",
       "Name             0\n",
       "Sex              0\n",
       "Age              0\n",
       "SibSp            0\n",
       "Parch            0\n",
       "Ticket           0\n",
       "Fare             0\n",
       "Cabin            0\n",
       "Embarked         0\n",
       "Title            0\n",
       "dtype: int64"
      ]
     },
     "metadata": {},
     "output_type": "display_data"
    }
   ],
   "source": [
    "print('Number of missing values in',m, 'examples')\n",
    "display(df_all.isnull().sum())"
   ]
  },
  {
   "cell_type": "markdown",
   "metadata": {
    "id": "8P-zP2pxZ3Zf",
    "papermill": {
     "duration": 0.04303,
     "end_time": "2020-10-12T04:53:37.206249",
     "exception": false,
     "start_time": "2020-10-12T04:53:37.163219",
     "status": "completed"
    },
    "tags": []
   },
   "source": [
    "There are no more missing values in our dataset. 418 missing survival is coming from the test where we do not have the labels. Survival will be used as a target vector to train our algorithms (not input). "
   ]
  },
  {
   "cell_type": "markdown",
   "metadata": {
    "id": "OoULMoW_XMzS",
    "papermill": {
     "duration": 0.043926,
     "end_time": "2020-10-12T04:53:37.292599",
     "exception": false,
     "start_time": "2020-10-12T04:53:37.248673",
     "status": "completed"
    },
    "tags": []
   },
   "source": [
    "<a id=\"23\"></a>\n",
    "\n",
    "## Exploring Some more features\n",
    "\n",
    "Now we filled all the missing values. Let's see what is the effect of each feature on survival.\n",
    "\n",
    "<a id=\"231\"></a>\n",
    "### Sex\n",
    "\n",
    "Based on the figure below, we can see the majority of women survived while the majority of men died. "
   ]
  },
  {
   "cell_type": "code",
   "execution_count": 10,
   "metadata": {
    "execution": {
     "iopub.execute_input": "2020-10-12T04:53:37.385468Z",
     "iopub.status.busy": "2020-10-12T04:53:37.383780Z",
     "iopub.status.idle": "2020-10-12T04:53:37.551614Z",
     "shell.execute_reply": "2020-10-12T04:53:37.550395Z"
    },
    "id": "HaQjZ12Rom5x",
    "outputId": "06a90fbb-a9e1-49b8-a51b-864d596ec3b5",
    "papermill": {
     "duration": 0.216524,
     "end_time": "2020-10-12T04:53:37.551778",
     "exception": false,
     "start_time": "2020-10-12T04:53:37.335254",
     "status": "completed"
    },
    "tags": []
   },
   "outputs": [
    {
     "data": {
      "image/png": "[encoded data removed]",
      "text/plain": [
       "<Figure size 576x360 with 1 Axes>"
      ]
     },
     "metadata": {
      "needs_background": "light"
     },
     "output_type": "display_data"
    }
   ],
   "source": [
    "plt.figure(figsize=(8,5))\n",
    "sns.countplot(df_all.Sex, hue=df_all.Survived)\n",
    "plt.show()"
   ]
  },
  {
   "cell_type": "markdown",
   "metadata": {
    "id": "69_sDazLYMwh",
    "papermill": {
     "duration": 0.043361,
     "end_time": "2020-10-12T04:53:37.656697",
     "exception": false,
     "start_time": "2020-10-12T04:53:37.613336",
     "status": "completed"
    },
    "tags": []
   },
   "source": [
    "<a id=\"232\"></a>\n",
    "\n",
    "### Ticket class (Pclass)\n",
    "\n",
    "In the figure below, we can see the majority of people having class 3 ticket died while people with class 1 ticket survived the most. "
   ]
  },
  {
   "cell_type": "code",
   "execution_count": 11,
   "metadata": {
    "execution": {
     "iopub.execute_input": "2020-10-12T04:53:37.750730Z",
     "iopub.status.busy": "2020-10-12T04:53:37.748089Z",
     "iopub.status.idle": "2020-10-12T04:53:37.895385Z",
     "shell.execute_reply": "2020-10-12T04:53:37.895896Z"
    },
    "id": "E6lyY97mYPdi",
    "outputId": "d24bfa63-1522-45fd-bf68-92e9ec5d48a7",
    "papermill": {
     "duration": 0.196034,
     "end_time": "2020-10-12T04:53:37.896050",
     "exception": false,
     "start_time": "2020-10-12T04:53:37.700016",
     "status": "completed"
    },
    "tags": []
   },
   "outputs": [
    {
     "data": {
      "image/png": "[encoded data removed]",
      "text/plain": [
       "<Figure size 576x360 with 1 Axes>"
      ]
     },
     "metadata": {
      "needs_background": "light"
     },
     "output_type": "display_data"
    }
   ],
   "source": [
    "plt.figure(figsize=(8,5))\n",
    "sns.countplot(df_all.Pclass, hue=df_all.Survived)\n",
    "plt.show()"
   ]
  },
  {
   "cell_type": "markdown",
   "metadata": {
    "id": "hzSR0NxbYtAk",
    "papermill": {
     "duration": 0.044854,
     "end_time": "2020-10-12T04:53:37.984515",
     "exception": false,
     "start_time": "2020-10-12T04:53:37.939661",
     "status": "completed"
    },
    "tags": []
   },
   "source": [
    "<a id=\"233\"></a>\n",
    "\n",
    "### Number of Siblings/Spouses\n",
    "\n",
    "In this figure we can see that the ones who survived most were people who had one sibling or spouse aboard the titanic. "
   ]
  },
  {
   "cell_type": "code",
   "execution_count": 12,
   "metadata": {
    "execution": {
     "iopub.execute_input": "2020-10-12T04:53:38.080732Z",
     "iopub.status.busy": "2020-10-12T04:53:38.079877Z",
     "iopub.status.idle": "2020-10-12T04:53:38.369021Z",
     "shell.execute_reply": "2020-10-12T04:53:38.368337Z"
    },
    "id": "yHCWPP0wY2AR",
    "outputId": "6adb3fd5-028c-422b-9df7-c4588c343ec5",
    "papermill": {
     "duration": 0.34051,
     "end_time": "2020-10-12T04:53:38.369140",
     "exception": false,
     "start_time": "2020-10-12T04:53:38.028630",
     "status": "completed"
    },
    "tags": []
   },
   "outputs": [
    {
     "data": {
      "image/png": "[encoded data removed]",
      "text/plain": [
       "<Figure size 576x360 with 1 Axes>"
      ]
     },
     "metadata": {
      "needs_background": "light"
     },
     "output_type": "display_data"
    }
   ],
   "source": [
    "plt.figure(figsize=(8,5))\n",
    "sns.countplot(df_all.SibSp, hue=df_all.Survived)\n",
    "plt.show()"
   ]
  },
  {
   "cell_type": "markdown",
   "metadata": {
    "id": "d4Jp-foxbrH7",
    "papermill": {
     "duration": 0.043895,
     "end_time": "2020-10-12T04:53:38.457279",
     "exception": false,
     "start_time": "2020-10-12T04:53:38.413384",
     "status": "completed"
    },
    "tags": []
   },
   "source": [
    "<a id=\"234\"></a>\n",
    "\n",
    "### Number of Parents/Children\n",
    "\n",
    "Well, it seems having someone with you is not bad at all!"
   ]
  },
  {
   "cell_type": "code",
   "execution_count": 13,
   "metadata": {
    "execution": {
     "iopub.execute_input": "2020-10-12T04:53:38.555315Z",
     "iopub.status.busy": "2020-10-12T04:53:38.554288Z",
     "iopub.status.idle": "2020-10-12T04:53:38.731216Z",
     "shell.execute_reply": "2020-10-12T04:53:38.730659Z"
    },
    "id": "YzXjG_T5bsN4",
    "outputId": "bb5b8194-06f7-4d22-d328-6c5a1a2a78d6",
    "papermill": {
     "duration": 0.229369,
     "end_time": "2020-10-12T04:53:38.731333",
     "exception": false,
     "start_time": "2020-10-12T04:53:38.501964",
     "status": "completed"
    },
    "tags": []
   },
   "outputs": [
    {
     "data": {
      "image/png": "[encoded data removed]",
      "text/plain": [
       "<Figure size 576x360 with 1 Axes>"
      ]
     },
     "metadata": {
      "needs_background": "light"
     },
     "output_type": "display_data"
    }
   ],
   "source": [
    "plt.figure(figsize=(8,5))\n",
    "sns.countplot(df_all.Parch, hue=df_all.Survived)\n",
    "plt.show()"
   ]
  },
  {
   "cell_type": "markdown",
   "metadata": {
    "id": "NlOgn7ZcfOVu",
    "papermill": {
     "duration": 0.045928,
     "end_time": "2020-10-12T04:53:38.822519",
     "exception": false,
     "start_time": "2020-10-12T04:53:38.776591",
     "status": "completed"
    },
    "tags": []
   },
   "source": [
    "<a id=\"234\"></a>\n",
    "\n",
    "### Title\n",
    "\n",
    "As mentioned before, we extracted titles from the names of passengers. Well, it seems many gentlemen sacrified their lives to respect women, children and royalty members. "
   ]
  },
  {
   "cell_type": "code",
   "execution_count": 14,
   "metadata": {
    "execution": {
     "iopub.execute_input": "2020-10-12T04:53:38.920516Z",
     "iopub.status.busy": "2020-10-12T04:53:38.919532Z",
     "iopub.status.idle": "2020-10-12T04:53:39.083154Z",
     "shell.execute_reply": "2020-10-12T04:53:39.082589Z"
    },
    "id": "auVI8-W1f0AP",
    "outputId": "3f466214-9b65-4eeb-c641-43b853d0907a",
    "papermill": {
     "duration": 0.215377,
     "end_time": "2020-10-12T04:53:39.083362",
     "exception": false,
     "start_time": "2020-10-12T04:53:38.867985",
     "status": "completed"
    },
    "tags": []
   },
   "outputs": [
    {
     "data": {
      "image/png": "[encoded data removed]",
      "text/plain": [
       "<Figure size 576x360 with 1 Axes>"
      ]
     },
     "metadata": {
      "needs_background": "light"
     },
     "output_type": "display_data"
    }
   ],
   "source": [
    "plt.figure(figsize=(8,5))\n",
    "sns.countplot(df_all.Title, hue=df_all.Survived)\n",
    "plt.show()"
   ]
  },
  {
   "cell_type": "markdown",
   "metadata": {
    "id": "Ja_uXIlVgBXl",
    "papermill": {
     "duration": 0.046413,
     "end_time": "2020-10-12T04:53:39.176534",
     "exception": false,
     "start_time": "2020-10-12T04:53:39.130121",
     "status": "completed"
    },
    "tags": []
   },
   "source": [
    "<a id=\"235\"></a>\n",
    "\n",
    "\n",
    "### Embarked\n",
    "\n",
    "It seems people who chose Cherbourg as their port of embrakation were luckier than the other two ports. "
   ]
  },
  {
   "cell_type": "code",
   "execution_count": 15,
   "metadata": {
    "execution": {
     "iopub.execute_input": "2020-10-12T04:53:39.275405Z",
     "iopub.status.busy": "2020-10-12T04:53:39.274342Z",
     "iopub.status.idle": "2020-10-12T04:53:39.419981Z",
     "shell.execute_reply": "2020-10-12T04:53:39.419322Z"
    },
    "id": "TNFWJuAbgR0s",
    "outputId": "283f7caa-867e-4d57-cdaa-d29e1d0f2234",
    "papermill": {
     "duration": 0.196846,
     "end_time": "2020-10-12T04:53:39.420105",
     "exception": false,
     "start_time": "2020-10-12T04:53:39.223259",
     "status": "completed"
    },
    "tags": []
   },
   "outputs": [
    {
     "data": {
      "image/png": "[encoded data removed]",
      "text/plain": [
       "<Figure size 576x360 with 1 Axes>"
      ]
     },
     "metadata": {
      "needs_background": "light"
     },
     "output_type": "display_data"
    }
   ],
   "source": [
    "plt.figure(figsize=(8,5))\n",
    "sns.countplot(df_all.Embarked, hue=df_all.Survived)\n",
    "plt.show()"
   ]
  },
  {
   "cell_type": "markdown",
   "metadata": {
    "id": "Ouz7ZC5jgtkW",
    "papermill": {
     "duration": 0.048757,
     "end_time": "2020-10-12T04:53:39.516121",
     "exception": false,
     "start_time": "2020-10-12T04:53:39.467364",
     "status": "completed"
    },
    "tags": []
   },
   "source": [
    "<a id=\"236\"></a>\n",
    "### Fare\n",
    "\n",
    "We devided the fares into different ranges. As we can see, the ones who paid more, survived more. "
   ]
  },
  {
   "cell_type": "code",
   "execution_count": 16,
   "metadata": {
    "execution": {
     "iopub.execute_input": "2020-10-12T04:53:39.618354Z",
     "iopub.status.busy": "2020-10-12T04:53:39.616827Z",
     "iopub.status.idle": "2020-10-12T04:53:39.773958Z",
     "shell.execute_reply": "2020-10-12T04:53:39.773308Z"
    },
    "id": "x-4zffYog88j",
    "outputId": "cae8209a-945e-407c-d347-39b52a899767",
    "papermill": {
     "duration": 0.21135,
     "end_time": "2020-10-12T04:53:39.774072",
     "exception": false,
     "start_time": "2020-10-12T04:53:39.562722",
     "status": "completed"
    },
    "tags": []
   },
   "outputs": [
    {
     "data": {
      "image/png": "[encoded data removed]",
      "text/plain": [
       "<Figure size 576x360 with 1 Axes>"
      ]
     },
     "metadata": {
      "needs_background": "light"
     },
     "output_type": "display_data"
    }
   ],
   "source": [
    "Fare_cat = pd.cut(df_all.Fare,bins=[0,10,50,100,200,550],labels=['0-10','10-50','50-100','100-200','200-550'])\n",
    "\n",
    "plt.figure(figsize=(8,5))\n",
    "sns.countplot(Fare_cat, hue=df_all.Survived)\n",
    "\n",
    "plt.show()"
   ]
  },
  {
   "cell_type": "markdown",
   "metadata": {
    "id": "FOJZyXSzLKjV",
    "papermill": {
     "duration": 0.047005,
     "end_time": "2020-10-12T04:53:39.868397",
     "exception": false,
     "start_time": "2020-10-12T04:53:39.821392",
     "status": "completed"
    },
    "tags": []
   },
   "source": [
    "<a id=\"237\"></a>\n",
    "\n",
    "### Ticket, Name, PassengerID\n",
    "\n",
    "We used Name to extract the titles, now we can drop the three features of Ticket, name and PassengerID. "
   ]
  },
  {
   "cell_type": "code",
   "execution_count": 17,
   "metadata": {
    "execution": {
     "iopub.execute_input": "2020-10-12T04:53:40.042564Z",
     "iopub.status.busy": "2020-10-12T04:53:40.020636Z",
     "iopub.status.idle": "2020-10-12T04:53:40.046755Z",
     "shell.execute_reply": "2020-10-12T04:53:40.047317Z"
    },
    "id": "DuXLtDHsOpJA",
    "papermill": {
     "duration": 0.131797,
     "end_time": "2020-10-12T04:53:40.047514",
     "exception": false,
     "start_time": "2020-10-12T04:53:39.915717",
     "status": "completed"
    },
    "tags": []
   },
   "outputs": [
    {
     "data": {
      "text/html": [
       "<div>\n",
       "<style scoped>\n",
       "    .dataframe tbody tr th:only-of-type {\n",
       "        vertical-align: middle;\n",
       "    }\n",
       "\n",
       "    .dataframe tbody tr th {\n",
       "        vertical-align: top;\n",
       "    }\n",
       "\n",
       "    .dataframe thead th {\n",
       "        text-align: right;\n",
       "    }\n",
       "</style>\n",
       "<table border=\"1\" class=\"dataframe\">\n",
       "  <thead>\n",
       "    <tr style=\"text-align: right;\">\n",
       "      <th></th>\n",
       "      <th>Survived</th>\n",
       "      <th>Pclass</th>\n",
       "      <th>Sex</th>\n",
       "      <th>Age</th>\n",
       "      <th>SibSp</th>\n",
       "      <th>Parch</th>\n",
       "      <th>Fare</th>\n",
       "      <th>Cabin</th>\n",
       "      <th>Embarked</th>\n",
       "      <th>Title</th>\n",
       "    </tr>\n",
       "  </thead>\n",
       "  <tbody>\n",
       "    <tr>\n",
       "      <th>0</th>\n",
       "      <td>0.0</td>\n",
       "      <td>3</td>\n",
       "      <td>male</td>\n",
       "      <td>22.0</td>\n",
       "      <td>1</td>\n",
       "      <td>0</td>\n",
       "      <td>7.2500</td>\n",
       "      <td>0</td>\n",
       "      <td>S</td>\n",
       "      <td>Mr</td>\n",
       "    </tr>\n",
       "    <tr>\n",
       "      <th>1</th>\n",
       "      <td>1.0</td>\n",
       "      <td>1</td>\n",
       "      <td>female</td>\n",
       "      <td>38.0</td>\n",
       "      <td>1</td>\n",
       "      <td>0</td>\n",
       "      <td>71.2833</td>\n",
       "      <td>1</td>\n",
       "      <td>C</td>\n",
       "      <td>Mrs</td>\n",
       "    </tr>\n",
       "    <tr>\n",
       "      <th>2</th>\n",
       "      <td>1.0</td>\n",
       "      <td>3</td>\n",
       "      <td>female</td>\n",
       "      <td>26.0</td>\n",
       "      <td>0</td>\n",
       "      <td>0</td>\n",
       "      <td>7.9250</td>\n",
       "      <td>0</td>\n",
       "      <td>S</td>\n",
       "      <td>Miss</td>\n",
       "    </tr>\n",
       "    <tr>\n",
       "      <th>3</th>\n",
       "      <td>1.0</td>\n",
       "      <td>1</td>\n",
       "      <td>female</td>\n",
       "      <td>35.0</td>\n",
       "      <td>1</td>\n",
       "      <td>0</td>\n",
       "      <td>53.1000</td>\n",
       "      <td>1</td>\n",
       "      <td>S</td>\n",
       "      <td>Mrs</td>\n",
       "    </tr>\n",
       "    <tr>\n",
       "      <th>4</th>\n",
       "      <td>0.0</td>\n",
       "      <td>3</td>\n",
       "      <td>male</td>\n",
       "      <td>35.0</td>\n",
       "      <td>0</td>\n",
       "      <td>0</td>\n",
       "      <td>8.0500</td>\n",
       "      <td>0</td>\n",
       "      <td>S</td>\n",
       "      <td>Mr</td>\n",
       "    </tr>\n",
       "    <tr>\n",
       "      <th>...</th>\n",
       "      <td>...</td>\n",
       "      <td>...</td>\n",
       "      <td>...</td>\n",
       "      <td>...</td>\n",
       "      <td>...</td>\n",
       "      <td>...</td>\n",
       "      <td>...</td>\n",
       "      <td>...</td>\n",
       "      <td>...</td>\n",
       "      <td>...</td>\n",
       "    </tr>\n",
       "    <tr>\n",
       "      <th>1304</th>\n",
       "      <td>NaN</td>\n",
       "      <td>3</td>\n",
       "      <td>male</td>\n",
       "      <td>26.0</td>\n",
       "      <td>0</td>\n",
       "      <td>0</td>\n",
       "      <td>8.0500</td>\n",
       "      <td>0</td>\n",
       "      <td>S</td>\n",
       "      <td>Mr</td>\n",
       "    </tr>\n",
       "    <tr>\n",
       "      <th>1305</th>\n",
       "      <td>NaN</td>\n",
       "      <td>1</td>\n",
       "      <td>female</td>\n",
       "      <td>39.0</td>\n",
       "      <td>0</td>\n",
       "      <td>0</td>\n",
       "      <td>108.9000</td>\n",
       "      <td>1</td>\n",
       "      <td>C</td>\n",
       "      <td>Royalty</td>\n",
       "    </tr>\n",
       "    <tr>\n",
       "      <th>1306</th>\n",
       "      <td>NaN</td>\n",
       "      <td>3</td>\n",
       "      <td>male</td>\n",
       "      <td>38.5</td>\n",
       "      <td>0</td>\n",
       "      <td>0</td>\n",
       "      <td>7.2500</td>\n",
       "      <td>0</td>\n",
       "      <td>S</td>\n",
       "      <td>Mr</td>\n",
       "    </tr>\n",
       "    <tr>\n",
       "      <th>1307</th>\n",
       "      <td>NaN</td>\n",
       "      <td>3</td>\n",
       "      <td>male</td>\n",
       "      <td>26.0</td>\n",
       "      <td>0</td>\n",
       "      <td>0</td>\n",
       "      <td>8.0500</td>\n",
       "      <td>0</td>\n",
       "      <td>S</td>\n",
       "      <td>Mr</td>\n",
       "    </tr>\n",
       "    <tr>\n",
       "      <th>1308</th>\n",
       "      <td>NaN</td>\n",
       "      <td>3</td>\n",
       "      <td>male</td>\n",
       "      <td>6.0</td>\n",
       "      <td>1</td>\n",
       "      <td>1</td>\n",
       "      <td>22.3583</td>\n",
       "      <td>0</td>\n",
       "      <td>C</td>\n",
       "      <td>Master</td>\n",
       "    </tr>\n",
       "  </tbody>\n",
       "</table>\n",
       "<p>1309 rows × 10 columns</p>\n",
       "</div>"
      ],
      "text/plain": [
       "      Survived  Pclass     Sex   Age  SibSp  Parch      Fare Cabin Embarked  \\\n",
       "0          0.0       3    male  22.0      1      0    7.2500     0        S   \n",
       "1          1.0       1  female  38.0      1      0   71.2833     1        C   \n",
       "2          1.0       3  female  26.0      0      0    7.9250     0        S   \n",
       "3          1.0       1  female  35.0      1      0   53.1000     1        S   \n",
       "4          0.0       3    male  35.0      0      0    8.0500     0        S   \n",
       "...        ...     ...     ...   ...    ...    ...       ...   ...      ...   \n",
       "1304       NaN       3    male  26.0      0      0    8.0500     0        S   \n",
       "1305       NaN       1  female  39.0      0      0  108.9000     1        C   \n",
       "1306       NaN       3    male  38.5      0      0    7.2500     0        S   \n",
       "1307       NaN       3    male  26.0      0      0    8.0500     0        S   \n",
       "1308       NaN       3    male   6.0      1      1   22.3583     0        C   \n",
       "\n",
       "        Title  \n",
       "0          Mr  \n",
       "1         Mrs  \n",
       "2        Miss  \n",
       "3         Mrs  \n",
       "4          Mr  \n",
       "...       ...  \n",
       "1304       Mr  \n",
       "1305  Royalty  \n",
       "1306       Mr  \n",
       "1307       Mr  \n",
       "1308   Master  \n",
       "\n",
       "[1309 rows x 10 columns]"
      ]
     },
     "metadata": {},
     "output_type": "display_data"
    }
   ],
   "source": [
    "\n",
    "df_all.drop('Name', axis =1, inplace=True)\n",
    "df_all.drop('Ticket', axis =1, inplace=True)\n",
    "df_all.drop('PassengerId', axis=1, inplace = True)\n",
    "display(df_all)"
   ]
  },
  {
   "cell_type": "markdown",
   "metadata": {
    "id": "klS0sRGP1app",
    "papermill": {
     "duration": 0.056442,
     "end_time": "2020-10-12T04:53:40.154964",
     "exception": false,
     "start_time": "2020-10-12T04:53:40.098522",
     "status": "completed"
    },
    "tags": []
   },
   "source": [
    "<a id=\"3\"></a>\n",
    "<div class=\"list-group\" id=\"list-tab\" role=\"tablist\">\n",
    "<h2 class=\"list-group-item list-group-item-action active\" data-toggle=\"list\" style='background:red; border:0; color:white' role=\"tab\" aria-controls=\"home\"><center> Training</center></h2>\n",
    "\n",
    "\n",
    "Let's look at our data now: A few more things before training. We need to convert categorical values to numericals. For sex, we assign 0,1 to male and female respectively. For Embarked,and Title we use one-hot encoding for these categorical features. Also, we add the SibSp and Parch together to make a new feature \"Partner\"."
   ]
  },
  {
   "cell_type": "code",
   "execution_count": 18,
   "metadata": {
    "execution": {
     "iopub.execute_input": "2020-10-12T04:53:40.304331Z",
     "iopub.status.busy": "2020-10-12T04:53:40.291235Z",
     "iopub.status.idle": "2020-10-12T04:53:40.310153Z",
     "shell.execute_reply": "2020-10-12T04:53:40.309419Z"
    },
    "id": "6PTSdETD1EKE",
    "outputId": "81f781c2-0044-4406-c31a-0a32663e55e1",
    "papermill": {
     "duration": 0.090287,
     "end_time": "2020-10-12T04:53:40.310278",
     "exception": false,
     "start_time": "2020-10-12T04:53:40.219991",
     "status": "completed"
    },
    "tags": []
   },
   "outputs": [
    {
     "data": {
      "text/html": [
       "<div>\n",
       "<style scoped>\n",
       "    .dataframe tbody tr th:only-of-type {\n",
       "        vertical-align: middle;\n",
       "    }\n",
       "\n",
       "    .dataframe tbody tr th {\n",
       "        vertical-align: top;\n",
       "    }\n",
       "\n",
       "    .dataframe thead th {\n",
       "        text-align: right;\n",
       "    }\n",
       "</style>\n",
       "<table border=\"1\" class=\"dataframe\">\n",
       "  <thead>\n",
       "    <tr style=\"text-align: right;\">\n",
       "      <th></th>\n",
       "      <th>Survived</th>\n",
       "      <th>Pclass</th>\n",
       "      <th>Sex</th>\n",
       "      <th>Age</th>\n",
       "      <th>SibSp</th>\n",
       "      <th>Parch</th>\n",
       "      <th>Fare</th>\n",
       "      <th>Cabin</th>\n",
       "      <th>Embarked</th>\n",
       "      <th>Title</th>\n",
       "    </tr>\n",
       "  </thead>\n",
       "  <tbody>\n",
       "    <tr>\n",
       "      <th>0</th>\n",
       "      <td>0.0</td>\n",
       "      <td>3</td>\n",
       "      <td>male</td>\n",
       "      <td>22.0</td>\n",
       "      <td>1</td>\n",
       "      <td>0</td>\n",
       "      <td>7.2500</td>\n",
       "      <td>0</td>\n",
       "      <td>S</td>\n",
       "      <td>Mr</td>\n",
       "    </tr>\n",
       "    <tr>\n",
       "      <th>1</th>\n",
       "      <td>1.0</td>\n",
       "      <td>1</td>\n",
       "      <td>female</td>\n",
       "      <td>38.0</td>\n",
       "      <td>1</td>\n",
       "      <td>0</td>\n",
       "      <td>71.2833</td>\n",
       "      <td>1</td>\n",
       "      <td>C</td>\n",
       "      <td>Mrs</td>\n",
       "    </tr>\n",
       "    <tr>\n",
       "      <th>2</th>\n",
       "      <td>1.0</td>\n",
       "      <td>3</td>\n",
       "      <td>female</td>\n",
       "      <td>26.0</td>\n",
       "      <td>0</td>\n",
       "      <td>0</td>\n",
       "      <td>7.9250</td>\n",
       "      <td>0</td>\n",
       "      <td>S</td>\n",
       "      <td>Miss</td>\n",
       "    </tr>\n",
       "    <tr>\n",
       "      <th>3</th>\n",
       "      <td>1.0</td>\n",
       "      <td>1</td>\n",
       "      <td>female</td>\n",
       "      <td>35.0</td>\n",
       "      <td>1</td>\n",
       "      <td>0</td>\n",
       "      <td>53.1000</td>\n",
       "      <td>1</td>\n",
       "      <td>S</td>\n",
       "      <td>Mrs</td>\n",
       "    </tr>\n",
       "    <tr>\n",
       "      <th>4</th>\n",
       "      <td>0.0</td>\n",
       "      <td>3</td>\n",
       "      <td>male</td>\n",
       "      <td>35.0</td>\n",
       "      <td>0</td>\n",
       "      <td>0</td>\n",
       "      <td>8.0500</td>\n",
       "      <td>0</td>\n",
       "      <td>S</td>\n",
       "      <td>Mr</td>\n",
       "    </tr>\n",
       "  </tbody>\n",
       "</table>\n",
       "</div>"
      ],
      "text/plain": [
       "   Survived  Pclass     Sex   Age  SibSp  Parch     Fare Cabin Embarked Title\n",
       "0       0.0       3    male  22.0      1      0   7.2500     0        S    Mr\n",
       "1       1.0       1  female  38.0      1      0  71.2833     1        C   Mrs\n",
       "2       1.0       3  female  26.0      0      0   7.9250     0        S  Miss\n",
       "3       1.0       1  female  35.0      1      0  53.1000     1        S   Mrs\n",
       "4       0.0       3    male  35.0      0      0   8.0500     0        S    Mr"
      ]
     },
     "metadata": {},
     "output_type": "display_data"
    }
   ],
   "source": [
    "display(df_all.head())"
   ]
  },
  {
   "cell_type": "code",
   "execution_count": 19,
   "metadata": {
    "execution": {
     "iopub.execute_input": "2020-10-12T04:53:40.435254Z",
     "iopub.status.busy": "2020-10-12T04:53:40.434514Z",
     "iopub.status.idle": "2020-10-12T04:53:40.457337Z",
     "shell.execute_reply": "2020-10-12T04:53:40.456678Z"
    },
    "id": "_FuWGMLDPZ2K",
    "outputId": "9b693524-7cc0-4340-8f03-64f0050cbf7b",
    "papermill": {
     "duration": 0.092499,
     "end_time": "2020-10-12T04:53:40.457476",
     "exception": false,
     "start_time": "2020-10-12T04:53:40.364977",
     "status": "completed"
    },
    "tags": []
   },
   "outputs": [
    {
     "data": {
      "text/html": [
       "<div>\n",
       "<style scoped>\n",
       "    .dataframe tbody tr th:only-of-type {\n",
       "        vertical-align: middle;\n",
       "    }\n",
       "\n",
       "    .dataframe tbody tr th {\n",
       "        vertical-align: top;\n",
       "    }\n",
       "\n",
       "    .dataframe thead th {\n",
       "        text-align: right;\n",
       "    }\n",
       "</style>\n",
       "<table border=\"1\" class=\"dataframe\">\n",
       "  <thead>\n",
       "    <tr style=\"text-align: right;\">\n",
       "      <th></th>\n",
       "      <th>Survived</th>\n",
       "      <th>Pclass</th>\n",
       "      <th>Sex</th>\n",
       "      <th>Age</th>\n",
       "      <th>Fare</th>\n",
       "      <th>Cabin</th>\n",
       "      <th>Partner</th>\n",
       "      <th>Title_Master</th>\n",
       "      <th>Title_Miss</th>\n",
       "      <th>Title_Mr</th>\n",
       "      <th>Title_Mrs</th>\n",
       "      <th>Title_Officer</th>\n",
       "      <th>Title_Royalty</th>\n",
       "      <th>Embarked_C</th>\n",
       "      <th>Embarked_Q</th>\n",
       "      <th>Embarked_S</th>\n",
       "    </tr>\n",
       "  </thead>\n",
       "  <tbody>\n",
       "    <tr>\n",
       "      <th>0</th>\n",
       "      <td>0.0</td>\n",
       "      <td>3</td>\n",
       "      <td>0</td>\n",
       "      <td>22.0</td>\n",
       "      <td>7.2500</td>\n",
       "      <td>0</td>\n",
       "      <td>1</td>\n",
       "      <td>0</td>\n",
       "      <td>0</td>\n",
       "      <td>1</td>\n",
       "      <td>0</td>\n",
       "      <td>0</td>\n",
       "      <td>0</td>\n",
       "      <td>0</td>\n",
       "      <td>0</td>\n",
       "      <td>1</td>\n",
       "    </tr>\n",
       "    <tr>\n",
       "      <th>1</th>\n",
       "      <td>1.0</td>\n",
       "      <td>1</td>\n",
       "      <td>1</td>\n",
       "      <td>38.0</td>\n",
       "      <td>71.2833</td>\n",
       "      <td>1</td>\n",
       "      <td>1</td>\n",
       "      <td>0</td>\n",
       "      <td>0</td>\n",
       "      <td>0</td>\n",
       "      <td>1</td>\n",
       "      <td>0</td>\n",
       "      <td>0</td>\n",
       "      <td>1</td>\n",
       "      <td>0</td>\n",
       "      <td>0</td>\n",
       "    </tr>\n",
       "    <tr>\n",
       "      <th>2</th>\n",
       "      <td>1.0</td>\n",
       "      <td>3</td>\n",
       "      <td>1</td>\n",
       "      <td>26.0</td>\n",
       "      <td>7.9250</td>\n",
       "      <td>0</td>\n",
       "      <td>0</td>\n",
       "      <td>0</td>\n",
       "      <td>1</td>\n",
       "      <td>0</td>\n",
       "      <td>0</td>\n",
       "      <td>0</td>\n",
       "      <td>0</td>\n",
       "      <td>0</td>\n",
       "      <td>0</td>\n",
       "      <td>1</td>\n",
       "    </tr>\n",
       "    <tr>\n",
       "      <th>3</th>\n",
       "      <td>1.0</td>\n",
       "      <td>1</td>\n",
       "      <td>1</td>\n",
       "      <td>35.0</td>\n",
       "      <td>53.1000</td>\n",
       "      <td>1</td>\n",
       "      <td>1</td>\n",
       "      <td>0</td>\n",
       "      <td>0</td>\n",
       "      <td>0</td>\n",
       "      <td>1</td>\n",
       "      <td>0</td>\n",
       "      <td>0</td>\n",
       "      <td>0</td>\n",
       "      <td>0</td>\n",
       "      <td>1</td>\n",
       "    </tr>\n",
       "    <tr>\n",
       "      <th>4</th>\n",
       "      <td>0.0</td>\n",
       "      <td>3</td>\n",
       "      <td>0</td>\n",
       "      <td>35.0</td>\n",
       "      <td>8.0500</td>\n",
       "      <td>0</td>\n",
       "      <td>0</td>\n",
       "      <td>0</td>\n",
       "      <td>0</td>\n",
       "      <td>1</td>\n",
       "      <td>0</td>\n",
       "      <td>0</td>\n",
       "      <td>0</td>\n",
       "      <td>0</td>\n",
       "      <td>0</td>\n",
       "      <td>1</td>\n",
       "    </tr>\n",
       "  </tbody>\n",
       "</table>\n",
       "</div>"
      ],
      "text/plain": [
       "   Survived  Pclass  Sex   Age     Fare Cabin  Partner  Title_Master  \\\n",
       "0       0.0       3    0  22.0   7.2500     0        1             0   \n",
       "1       1.0       1    1  38.0  71.2833     1        1             0   \n",
       "2       1.0       3    1  26.0   7.9250     0        0             0   \n",
       "3       1.0       1    1  35.0  53.1000     1        1             0   \n",
       "4       0.0       3    0  35.0   8.0500     0        0             0   \n",
       "\n",
       "   Title_Miss  Title_Mr  Title_Mrs  Title_Officer  Title_Royalty  Embarked_C  \\\n",
       "0           0         1          0              0              0           0   \n",
       "1           0         0          1              0              0           1   \n",
       "2           1         0          0              0              0           0   \n",
       "3           0         0          1              0              0           0   \n",
       "4           0         1          0              0              0           0   \n",
       "\n",
       "   Embarked_Q  Embarked_S  \n",
       "0           0           1  \n",
       "1           0           0  \n",
       "2           0           1  \n",
       "3           0           1  \n",
       "4           0           1  "
      ]
     },
     "metadata": {},
     "output_type": "display_data"
    }
   ],
   "source": [
    "Sex = {\"male\": 0, \"female\":1}\n",
    "df_all[\"Sex\"] = df_all.Sex.map(Sex)\n",
    "df_all['Partner'] = df_all['SibSp'] + df_all['Parch'] # \n",
    "df_all.drop(['SibSp', 'Parch'], axis=1, inplace=True)\n",
    "df_all = pd.get_dummies(df_all, columns = ['Title','Embarked'])\n",
    "display(df_all.head())"
   ]
  },
  {
   "cell_type": "markdown",
   "metadata": {
    "id": "REDMbbNZ_1Up",
    "papermill": {
     "duration": 0.049732,
     "end_time": "2020-10-12T04:53:40.557311",
     "exception": false,
     "start_time": "2020-10-12T04:53:40.507579",
     "status": "completed"
    },
    "tags": []
   },
   "source": [
    "<a id=\"31\"></a>\n",
    "\n",
    "## Defining our classifiers"
   ]
  },
  {
   "cell_type": "markdown",
   "metadata": {
    "papermill": {
     "duration": 0.04926,
     "end_time": "2020-10-12T04:53:40.656580",
     "exception": false,
     "start_time": "2020-10-12T04:53:40.607320",
     "status": "completed"
    },
    "tags": []
   },
   "source": [
    "<a id=\"311\"></a>\n",
    "\n",
    "### Logistic Regression (from scratch)\n",
    "One interpretation of binary Logistic Regression (LR) is that it learns the conditional distribution $P[Y = y | x]$ and then uses this model to estimate the Bayes classifier. In particular, LR assumes that \n",
    "\\begin{equation*}\n",
    "    P[Y = y | x, w] \\approx \\sigma(w^{T}x)  \n",
    "\\end{equation*}\n",
    "where\n",
    "\\begin{equation*}\n",
    "    \\sigma(t) = \\frac{1}{1 + e^{-t}}\n",
    "\\end{equation*}\n",
    "is called the sigmoid or logistic function. We can see that $\\sigma(w^{T}x) \\in [0,1]$ and goes to 1 when $w^{T}x$ is large and 0 when $w^{T}x$ is small. The vector $w$ can be obtained using maximum likelihood estimation, i.e., minimizing the negative log-likelihood:\n",
    "\\begin{equation}\n",
    "    \\label{eq:lrML}\n",
    "    J(w) = -\\frac{1}{m} \\sum_{i=1}^{m} y_{i} \\log\\left( \\sigma(w^{T}x_{i}) \\right) + (1-y_{i}) \\log\\left(1 - \\sigma(w^{T}x_{i}) \\right)\n",
    "\\end{equation}\n"
   ]
  },
  {
   "cell_type": "code",
   "execution_count": 20,
   "metadata": {
    "execution": {
     "iopub.execute_input": "2020-10-12T04:53:40.773662Z",
     "iopub.status.busy": "2020-10-12T04:53:40.772725Z",
     "iopub.status.idle": "2020-10-12T04:53:40.775875Z",
     "shell.execute_reply": "2020-10-12T04:53:40.775075Z"
    },
    "papermill": {
     "duration": 0.069655,
     "end_time": "2020-10-12T04:53:40.776009",
     "exception": false,
     "start_time": "2020-10-12T04:53:40.706354",
     "status": "completed"
    },
    "tags": []
   },
   "outputs": [],
   "source": [
    "# Logistic Regression from scratch\n",
    "\n",
    "def logistic_regression(X, y, alpha=1e-3, num_iter=30,random_state=42):\n",
    "    \n",
    "    np.random.seed(random_state) # Random_state\n",
    "    d, m = X.shape \n",
    "    K = np.max(y) + 1\n",
    "    w = np.random.randn(d, K)\n",
    "    \n",
    "    def softmax(x):\n",
    "        s = np.exp(x) / np.sum(np.exp(x))\n",
    "        return s\n",
    "    \n",
    "    def one_hot(y, k):  \n",
    "        y_one_hot = np.eye(k)[y]\n",
    "        return y_one_hot\n",
    "    \n",
    "    def h(x, w):\n",
    "        p = softmax(w.T @ x)     #Using softmax for multiclass classification\n",
    "        return p\n",
    "    \n",
    "    def cost(pred, y):\n",
    "        c = np.sum(- one_hot(y, K).T * np.log(pred))\n",
    "        return c\n",
    "\n",
    "    def grad(w, x, y):\n",
    "        Y = one_hot(y, K).T\n",
    "        b = h(x, w) - Y\n",
    "        b = np.reshape(b, (-1, 1))\n",
    "        x = x.reshape(-1, 1)\n",
    "        g = x @ np.reshape(b, (-1, 1)).T\n",
    "        return g\n",
    "\n",
    "    for i in range(num_iter):\n",
    "        id = np.random.permutation(m)\n",
    "        for j in id:\n",
    "            gradient = grad(w, X[:, j], y[j])\n",
    "            w -= alpha * gradient\n",
    "    return w\n"
   ]
  },
  {
   "cell_type": "markdown",
   "metadata": {
    "papermill": {
     "duration": 0.053166,
     "end_time": "2020-10-12T04:53:40.885287",
     "exception": false,
     "start_time": "2020-10-12T04:53:40.832121",
     "status": "completed"
    },
    "tags": []
   },
   "source": [
    "<a id=\"312\"></a>\n",
    "\n",
    "### Least Square Ridge Classifier (from scratch)\n",
    "\n",
    "Considering $X \\in R^{m \\times d}$ and  $Y \\in R^{m \\times K}$ ($m$ is number of training examples, $d$ is the feature size, and $K$ is the number of target classes), there is a closed-form solution:\n",
    "        \\begin{equation*}\n",
    "            J(w) = \\lVert{X{w} - Y}\\rVert_{2}^{2}+ \\lambda \\lVert{w}\\rVert_{F}^{2}\n",
    "        \\end{equation*}\n",
    "        \\begin{equation*}\n",
    "           = (X{w}  - Y)^T(X{w} -Y) + \\lambda{w^T{w}}\n",
    "        \\end{equation*}\n",
    "        \\begin{equation*}\n",
    "           = (w^{T}X^{T} - Y^T)(X{w} -Y) + \\lambda{w^T{w}}\n",
    "        \\end{equation*}\n",
    "        \\begin{equation*}\n",
    "           = w^{T}X^{T}X{w}-w^{T}X^{T}{Y}-Y^{T}{X}{w} +Y^{T}Y + \\lambda{w^T{w}}\n",
    "        \\end{equation*}\n",
    "To minimize: $ \\frac{\\partial J}{\\partial w} = 0$\n",
    "        \\begin{equation*}\n",
    "           \\frac{\\partial J}{\\partial w} = 2X^{T}Xw-2X^{T}Y+2\\lambda{w} = 0 \\rightarrow 2(X^{T}X+\\lambda{I})w=2X^{T}Y\n",
    "        \\end{equation*}\n",
    "        \\begin{equation*}\n",
    "        \\Rightarrow w = (X^{T}X+\\lambda{I})^{-1}X^{T}Y\n",
    "        \\end{equation*}\n",
    "  "
   ]
  },
  {
   "cell_type": "code",
   "execution_count": 21,
   "metadata": {
    "execution": {
     "iopub.execute_input": "2020-10-12T04:53:40.991738Z",
     "iopub.status.busy": "2020-10-12T04:53:40.991025Z",
     "iopub.status.idle": "2020-10-12T04:53:40.993982Z",
     "shell.execute_reply": "2020-10-12T04:53:40.993303Z"
    },
    "papermill": {
     "duration": 0.059146,
     "end_time": "2020-10-12T04:53:40.994105",
     "exception": false,
     "start_time": "2020-10-12T04:53:40.934959",
     "status": "completed"
    },
    "tags": []
   },
   "outputs": [],
   "source": [
    "# Least square ridge classifier\n",
    "def ridge_classifier(X, y, lambd=1e-4):\n",
    "    d, m = X.shape\n",
    "    k = np.max(y) + 1\n",
    "    w = np.linalg.inv(X @ X.T + lambd * np.eye(d)) @ X @ np.eye(k)[y]\n",
    "    return w"
   ]
  },
  {
   "cell_type": "code",
   "execution_count": 22,
   "metadata": {
    "execution": {
     "iopub.execute_input": "2020-10-12T04:53:41.102331Z",
     "iopub.status.busy": "2020-10-12T04:53:41.101678Z",
     "iopub.status.idle": "2020-10-12T04:53:41.105221Z",
     "shell.execute_reply": "2020-10-12T04:53:41.104676Z"
    },
    "papermill": {
     "duration": 0.059725,
     "end_time": "2020-10-12T04:53:41.105346",
     "exception": false,
     "start_time": "2020-10-12T04:53:41.045621",
     "status": "completed"
    },
    "tags": []
   },
   "outputs": [],
   "source": [
    "def error(X, y, w):\n",
    "    m = np.shape(y)\n",
    "    y_pred = w.T @ X\n",
    "    y_pred = np.argmax(y_pred, axis=0)\n",
    "    err = np.sum(y_pred == y) / m\n",
    "    return err"
   ]
  },
  {
   "cell_type": "markdown",
   "metadata": {
    "id": "QcqZIPLW_9lS",
    "papermill": {
     "duration": 0.0509,
     "end_time": "2020-10-12T04:53:41.207526",
     "exception": false,
     "start_time": "2020-10-12T04:53:41.156626",
     "status": "completed"
    },
    "tags": []
   },
   "source": [
    "<a id=\"313\"></a>\n",
    "\n",
    "### Preprocess\n",
    "\n",
    "Here we chose our final features by trial and error. In the next step, we normalized our features to be in range of zero and one.\n"
   ]
  },
  {
   "cell_type": "code",
   "execution_count": 23,
   "metadata": {
    "execution": {
     "iopub.execute_input": "2020-10-12T04:53:41.319220Z",
     "iopub.status.busy": "2020-10-12T04:53:41.318519Z",
     "iopub.status.idle": "2020-10-12T04:53:41.328711Z",
     "shell.execute_reply": "2020-10-12T04:53:41.327971Z"
    },
    "papermill": {
     "duration": 0.069627,
     "end_time": "2020-10-12T04:53:41.328835",
     "exception": false,
     "start_time": "2020-10-12T04:53:41.259208",
     "status": "completed"
    },
    "tags": []
   },
   "outputs": [],
   "source": [
    "mms = MinMaxScaler()\n",
    "\n",
    "X = df_all.drop('Survived', axis=1).iloc[:891].values\n",
    "y = (df_all[\"Survived\"].iloc[:891].values).astype(int)\n",
    "X = mms.fit_transform(X)\n",
    "X_test = df_all.drop('Survived', axis=1).iloc[891:].values\n",
    "X_test = mms.fit_transform (X_test)"
   ]
  },
  {
   "cell_type": "markdown",
   "metadata": {
    "papermill": {
     "duration": 0.050293,
     "end_time": "2020-10-12T04:53:41.430087",
     "exception": false,
     "start_time": "2020-10-12T04:53:41.379794",
     "status": "completed"
    },
    "tags": []
   },
   "source": [
    "<a id=\"314\"></a>\n",
    "\n",
    "### Train and validate (KFold)"
   ]
  },
  {
   "cell_type": "markdown",
   "metadata": {
    "papermill": {
     "duration": 0.050304,
     "end_time": "2020-10-12T04:53:41.530543",
     "exception": false,
     "start_time": "2020-10-12T04:53:41.480239",
     "status": "completed"
    },
    "tags": []
   },
   "source": [
    "KFold is an appropriate method to perfrom cross-validation. We use 5 folds, meaning each time, training on 4 parts and testing on the remaining part."
   ]
  },
  {
   "cell_type": "code",
   "execution_count": 24,
   "metadata": {
    "execution": {
     "iopub.execute_input": "2020-10-12T04:53:41.648540Z",
     "iopub.status.busy": "2020-10-12T04:53:41.647456Z",
     "iopub.status.idle": "2020-10-12T04:54:14.888025Z",
     "shell.execute_reply": "2020-10-12T04:54:14.888588Z"
    },
    "papermill": {
     "duration": 33.307822,
     "end_time": "2020-10-12T04:54:14.888761",
     "exception": false,
     "start_time": "2020-10-12T04:53:41.580939",
     "status": "completed"
    },
    "tags": []
   },
   "outputs": [
    {
     "name": "stdout",
     "output_type": "stream",
     "text": [
      "Validation acc LR: Fold 1: [0.83798883]\n",
      "Validation acc LS: Fold 1: [0.81564246]\n",
      "Validation acc LR: Fold 2: [0.83146067]\n",
      "Validation acc LS: Fold 2: [0.83146067]\n",
      "Validation acc LR: Fold 3: [0.82022472]\n",
      "Validation acc LS: Fold 3: [0.80898876]\n",
      "Validation acc LR: Fold 4: [0.79213483]\n",
      "Validation acc LS: Fold 4: [0.79213483]\n",
      "Validation acc LR: Fold 5: [0.87640449]\n",
      "Validation acc LS: Fold 5: [0.89325843]\n",
      "-------------------------------\n",
      "Accuracy Logistic Regression: 0.83 (+/- 0.05)\n",
      "Accuracy Least Squares Ridge: 0.83 (+/- 0.07)\n"
     ]
    }
   ],
   "source": [
    "\n",
    "scores_lr = []\n",
    "scores_ls = []\n",
    "fold =1\n",
    "\n",
    "for tr, val in KFold(n_splits=5, random_state=42).split(X,y):\n",
    "    X_train = X[tr]\n",
    "    X_val = X[val]\n",
    "    y_train = y[tr]\n",
    "    y_val = y[val]\n",
    "    best_W_LR = logistic_regression(X_train.T, y_train, alpha=1e-3, num_iter=300,random_state=42)\n",
    "    val_acc_LR = error(X_val.T, y_val, best_W_LR)\n",
    "    scores_lr.append(val_acc_LR)\n",
    "    print(f'Validation acc LR: Fold {fold}:', val_acc_LR)\n",
    "    W_LS = ridge_classifier(X_train.T, y_train, lambd=1e-4)\n",
    "    val_acc_LS = error(X_val.T, y_val, W_LS)\n",
    "    scores_ls.append(val_acc_LS)\n",
    "    print(f'Validation acc LS: Fold {fold}:', val_acc_LS)\n",
    "    fold +=1 \n",
    "\n",
    "print('-------------------------------')\n",
    "print(\"Accuracy Logistic Regression: %0.2f (+/- %0.2f)\" % (np.mean(scores_lr), np.std(scores_lr) * 2))\n",
    "print(\"Accuracy Least Squares Ridge: %0.2f (+/- %0.2f)\" % (np.mean(scores_ls), np.std(scores_ls) * 2))\n",
    "\n"
   ]
  },
  {
   "cell_type": "code",
   "execution_count": 25,
   "metadata": {
    "execution": {
     "iopub.execute_input": "2020-10-12T04:54:15.002910Z",
     "iopub.status.busy": "2020-10-12T04:54:15.002157Z",
     "iopub.status.idle": "2020-10-12T04:54:15.238382Z",
     "shell.execute_reply": "2020-10-12T04:54:15.237892Z"
    },
    "papermill": {
     "duration": 0.297576,
     "end_time": "2020-10-12T04:54:15.238540",
     "exception": false,
     "start_time": "2020-10-12T04:54:14.940964",
     "status": "completed"
    },
    "tags": []
   },
   "outputs": [
    {
     "data": {
      "text/html": [
       "<div>\n",
       "<style scoped>\n",
       "    .dataframe tbody tr th:only-of-type {\n",
       "        vertical-align: middle;\n",
       "    }\n",
       "\n",
       "    .dataframe tbody tr th {\n",
       "        vertical-align: top;\n",
       "    }\n",
       "\n",
       "    .dataframe thead th {\n",
       "        text-align: right;\n",
       "    }\n",
       "</style>\n",
       "<table border=\"1\" class=\"dataframe\">\n",
       "  <thead>\n",
       "    <tr style=\"text-align: right;\">\n",
       "      <th></th>\n",
       "      <th>PassengerId</th>\n",
       "      <th>Survived</th>\n",
       "    </tr>\n",
       "  </thead>\n",
       "  <tbody>\n",
       "    <tr>\n",
       "      <th>0</th>\n",
       "      <td>892</td>\n",
       "      <td>0</td>\n",
       "    </tr>\n",
       "    <tr>\n",
       "      <th>1</th>\n",
       "      <td>893</td>\n",
       "      <td>1</td>\n",
       "    </tr>\n",
       "    <tr>\n",
       "      <th>2</th>\n",
       "      <td>894</td>\n",
       "      <td>0</td>\n",
       "    </tr>\n",
       "    <tr>\n",
       "      <th>3</th>\n",
       "      <td>895</td>\n",
       "      <td>0</td>\n",
       "    </tr>\n",
       "    <tr>\n",
       "      <th>4</th>\n",
       "      <td>896</td>\n",
       "      <td>1</td>\n",
       "    </tr>\n",
       "  </tbody>\n",
       "</table>\n",
       "</div>"
      ],
      "text/plain": [
       "   PassengerId  Survived\n",
       "0          892         0\n",
       "1          893         1\n",
       "2          894         0\n",
       "3          895         0\n",
       "4          896         1"
      ]
     },
     "metadata": {},
     "output_type": "display_data"
    }
   ],
   "source": [
    "# Ridge Classifier prediction on test set\n",
    "\n",
    "y_preds_LS =  (np.argmax(W_LS.T @ X_test.T, axis=0)).astype(int)\n",
    "df_sample_sub.loc[:, 'Survived'] = y_preds_LS\n",
    "df_sample_sub.to_csv('submission0.csv', index=False)\n",
    "display(df_sample_sub.head())\n",
    "# LB score: 0.77033"
   ]
  },
  {
   "cell_type": "markdown",
   "metadata": {
    "papermill": {
     "duration": 0.052919,
     "end_time": "2020-10-12T04:54:15.343958",
     "exception": false,
     "start_time": "2020-10-12T04:54:15.291039",
     "status": "completed"
    },
    "tags": []
   },
   "source": [
    "On average, our logistic regression and least square ridge classifiers have an 83%, and 82% accuracy within 95% confidence interval. Not bad!"
   ]
  },
  {
   "cell_type": "markdown",
   "metadata": {
    "papermill": {
     "duration": 0.052046,
     "end_time": "2020-10-12T04:54:15.448060",
     "exception": false,
     "start_time": "2020-10-12T04:54:15.396014",
     "status": "completed"
    },
    "tags": []
   },
   "source": [
    "<a id=\"32\"></a>\n",
    "\n",
    "## Scikit-learn models\n",
    "\n",
    "Let's try sklearn built-in classifiers. We will use Logistic Regression (LR), RandomForest(RF), XGBoost(XGB) and Support vector machine (SVC). In this step, we are not using any hyperparameter tuning."
   ]
  },
  {
   "cell_type": "code",
   "execution_count": 26,
   "metadata": {
    "execution": {
     "iopub.execute_input": "2020-10-12T04:54:15.566071Z",
     "iopub.status.busy": "2020-10-12T04:54:15.565167Z",
     "iopub.status.idle": "2020-10-12T04:54:16.951570Z",
     "shell.execute_reply": "2020-10-12T04:54:16.952556Z"
    },
    "id": "6u4dD_LhuI5i",
    "papermill": {
     "duration": 1.452126,
     "end_time": "2020-10-12T04:54:16.952789",
     "exception": false,
     "start_time": "2020-10-12T04:54:15.500663",
     "status": "completed"
    },
    "tags": []
   },
   "outputs": [
    {
     "name": "stdout",
     "output_type": "stream",
     "text": [
      "------------------------------------------\n",
      "RandomForestClassifier(random_state=42) results:\n",
      "Accuracy: 0.81 (+/- 0.04)\n",
      "Processing time 1.0003771781921387 s\n",
      "------------------------------------------\n",
      "LogisticRegression(random_state=42) results:\n",
      "Accuracy: 0.83 (+/- 0.04)\n",
      "Processing time 0.07410740852355957 s\n",
      "------------------------------------------\n",
      "XGBClassifier(base_score=None, booster=None, colsample_bylevel=None,\n",
      "              colsample_bynode=None, colsample_bytree=None, gamma=None,\n",
      "              gpu_id=None, importance_type='gain', interaction_constraints=None,\n",
      "              learning_rate=None, max_delta_step=None, max_depth=None,\n",
      "              min_child_weight=None, missing=nan, monotone_constraints=None,\n",
      "              n_estimators=100, n_jobs=None, num_parallel_tree=None,\n",
      "              random_state=42, reg_alpha=None, reg_lambda=None,\n",
      "              scale_pos_weight=None, subsample=None, tree_method=None,\n",
      "              validate_parameters=None, verbosity=None) results:\n",
      "Accuracy: 0.82 (+/- 0.05)\n",
      "Processing time 0.3075833320617676 s\n"
     ]
    }
   ],
   "source": [
    "def test_clfs(clfs):\n",
    "    for clf in clfs:\n",
    "        print('------------------------------------------')\n",
    "        start = time()\n",
    "        clf = clf(random_state=42)\n",
    "        scores = cross_val_score(clf, X, y, cv=5)\n",
    "        print(str(clf), 'results:')\n",
    "        print(\"Accuracy: %0.2f (+/- %0.2f)\" % (scores.mean(), scores.std() * 2))\n",
    "        end = time()\n",
    "        print('Processing time', end-start,'s')\n",
    "    \n",
    "\n",
    "models = [RandomForestClassifier, LogisticRegression,XGBClassifier]\n",
    "test_clfs(models)\n"
   ]
  },
  {
   "cell_type": "markdown",
   "metadata": {
    "papermill": {
     "duration": 0.07101,
     "end_time": "2020-10-12T04:54:17.096313",
     "exception": false,
     "start_time": "2020-10-12T04:54:17.025303",
     "status": "completed"
    },
    "tags": []
   },
   "source": [
    "We can see they have almost the same accuracy as our defined classifiers. Please note the processing times too. It may be important in performing hyperparameter search."
   ]
  },
  {
   "cell_type": "markdown",
   "metadata": {
    "papermill": {
     "duration": 0.053043,
     "end_time": "2020-10-12T04:54:17.213248",
     "exception": false,
     "start_time": "2020-10-12T04:54:17.160205",
     "status": "completed"
    },
    "tags": []
   },
   "source": [
    "<a id=\"321\"></a>\n",
    "\n",
    "### Hyperparamater tuning\n",
    "\n",
    "We will search for hyperparameteres using gridsearch method of sklearn. We will search for the three models of LR and RF and XGB. I have done the search and commented the best results, in order to not run this cell again. You can uncomment and perform the search with other hyperparameters."
   ]
  },
  {
   "cell_type": "code",
   "execution_count": 27,
   "metadata": {
    "execution": {
     "iopub.execute_input": "2020-10-12T04:54:17.327007Z",
     "iopub.status.busy": "2020-10-12T04:54:17.326282Z",
     "iopub.status.idle": "2020-10-12T04:54:17.329309Z",
     "shell.execute_reply": "2020-10-12T04:54:17.329863Z"
    },
    "papermill": {
     "duration": 0.063142,
     "end_time": "2020-10-12T04:54:17.330010",
     "exception": false,
     "start_time": "2020-10-12T04:54:17.266868",
     "status": "completed"
    },
    "tags": []
   },
   "outputs": [],
   "source": [
    "from sklearn.model_selection import GridSearchCV\n",
    "\n",
    "# C = np.arange(1,100,1)\n",
    "# fit_intercept = [True, False]\n",
    "# penalty = ['l1', 'l2', 'elasticnet','none']\n",
    "# class_weight = ['None', 'balanced']\n",
    "# solver = ['newton-cg','lbfgs','liblinear','sag', 'saga']\n",
    "# params = dict(C=C, fit_intercept=fit_intercept, penalty=penalty,\n",
    "#               class_weight=class_weight, solver=solver)\n",
    "\n",
    "# clf = GridSearchCV(estimator=LogisticRegression(random_state=42, n_jobs=-1) \n",
    "#                    , param_grid=params, cv=5, n_jobs=-1, verbose=2)\n",
    "\n",
    "# clf.fit(X, y)\n",
    "# print('best params', clf.best_params_)\n",
    "# print('best score', clf.best_score_)\n",
    "# best params {'C': 5, 'class_weight': 'None', 'fit_intercept': False, 'penalty': 'l2', 'solver': 'newton-cg'}\n",
    "# best score 0.8349946644906158\n",
    "\n",
    "\n",
    "\n",
    "# n_estimators =[4,5,6,7,8,9,10,11,12,13,14,15]\n",
    "# min_samples_split =[2, 3, 4, 5]\n",
    "# min_samples_leaf =[1, 2, 3, 4, 5]\n",
    "# max_depth =[2, 3, 4, 5, 6, 7, 8, 9, 10, 11, 12]\n",
    "# params = dict(n_estimators=n_estimators, min_samples_split=min_samples_split,\n",
    "#                min_samples_leaf=min_samples_leaf, max_depth=max_depth)\n",
    "\n",
    "# clf = GridSearchCV(estimator=RandomForestClassifier(random_state=42, n_jobs=-1), param_grid=params, cv=5, n_jobs=-1, verbose=0)\n",
    "# clf.fit(X, y)\n",
    "# print('best params', clf.best_params_)\n",
    "# print('best score', clf.best_score_)\n",
    "\n",
    "#best params {'max_depth': 9, 'min_samples_leaf': 4, 'min_samples_split': 2, 'n_estimators': 9}\n",
    "#best score 0.8372544096415794\n",
    "\n",
    "\n",
    "# n_estimators = [10, 50,100,150]\n",
    "# max_depth = [3, 5, 7, 9, 11]\n",
    "# booster= ['gbtree','gblinear']\n",
    "# min_child_weight = [1, 5, 10]\n",
    "# gamma= [0.5, 1, 2, 5]\n",
    "# subsample= [0.6, 0.8, 1.0]\n",
    "# colsample_bytree = [0.6, 0.8, 1.0]\n",
    "# params = dict(n_estimators=n_estimators,\n",
    "#                min_child_weight=min_child_weight, max_depth=max_depth,booster=booster,gamma=gamma,\n",
    "#            subsample=subsample, colsample_bytree=colsample_bytree )\n",
    "\n",
    "# clf = GridSearchCV(estimator=XGBClassifier(random_state=42, n_jobs=-1), param_grid=params, cv=5, n_jobs=-1, verbose=2)\n",
    "# clf.fit(X, y)\n",
    "# print('best params', clf.best_params_)\n",
    "# print('best score', clf.best_score_)\n",
    "#best params {'booster': 'gbtree', 'colsample_bytree': 0.6, 'gamma': 1, 'max_depth': 5, 'min_child_weight': 1, 'n_estimators': 100, 'subsample': 0.8}\n",
    "#best score 0.8451321323206328"
   ]
  },
  {
   "cell_type": "markdown",
   "metadata": {
    "papermill": {
     "duration": 0.053038,
     "end_time": "2020-10-12T04:54:17.437577",
     "exception": false,
     "start_time": "2020-10-12T04:54:17.384539",
     "status": "completed"
    },
    "tags": []
   },
   "source": [
    "<a id=\"322\"></a>\n",
    "### Random Forest Classifier"
   ]
  },
  {
   "cell_type": "code",
   "execution_count": 28,
   "metadata": {
    "execution": {
     "iopub.execute_input": "2020-10-12T04:54:17.553179Z",
     "iopub.status.busy": "2020-10-12T04:54:17.552532Z",
     "iopub.status.idle": "2020-10-12T04:54:17.777601Z",
     "shell.execute_reply": "2020-10-12T04:54:17.776912Z"
    },
    "papermill": {
     "duration": 0.285876,
     "end_time": "2020-10-12T04:54:17.777746",
     "exception": false,
     "start_time": "2020-10-12T04:54:17.491870",
     "status": "completed"
    },
    "tags": []
   },
   "outputs": [
    {
     "data": {
      "text/html": [
       "<div>\n",
       "<style scoped>\n",
       "    .dataframe tbody tr th:only-of-type {\n",
       "        vertical-align: middle;\n",
       "    }\n",
       "\n",
       "    .dataframe tbody tr th {\n",
       "        vertical-align: top;\n",
       "    }\n",
       "\n",
       "    .dataframe thead th {\n",
       "        text-align: right;\n",
       "    }\n",
       "</style>\n",
       "<table border=\"1\" class=\"dataframe\">\n",
       "  <thead>\n",
       "    <tr style=\"text-align: right;\">\n",
       "      <th></th>\n",
       "      <th>PassengerId</th>\n",
       "      <th>Survived</th>\n",
       "    </tr>\n",
       "  </thead>\n",
       "  <tbody>\n",
       "    <tr>\n",
       "      <th>0</th>\n",
       "      <td>892</td>\n",
       "      <td>0</td>\n",
       "    </tr>\n",
       "    <tr>\n",
       "      <th>1</th>\n",
       "      <td>893</td>\n",
       "      <td>1</td>\n",
       "    </tr>\n",
       "    <tr>\n",
       "      <th>2</th>\n",
       "      <td>894</td>\n",
       "      <td>0</td>\n",
       "    </tr>\n",
       "    <tr>\n",
       "      <th>3</th>\n",
       "      <td>895</td>\n",
       "      <td>0</td>\n",
       "    </tr>\n",
       "    <tr>\n",
       "      <th>4</th>\n",
       "      <td>896</td>\n",
       "      <td>1</td>\n",
       "    </tr>\n",
       "  </tbody>\n",
       "</table>\n",
       "</div>"
      ],
      "text/plain": [
       "   PassengerId  Survived\n",
       "0          892         0\n",
       "1          893         1\n",
       "2          894         0\n",
       "3          895         0\n",
       "4          896         1"
      ]
     },
     "metadata": {},
     "output_type": "display_data"
    }
   ],
   "source": [
    "clf1 = RandomForestClassifier(max_depth=9, min_samples_leaf=4, min_samples_split=2,\n",
    "                             n_estimators=9, random_state=42, n_jobs=-1) # The parameters came from the former cell results.\n",
    "clf1.fit(X, y)\n",
    "\n",
    "\n",
    "y_preds_RF = clf1.predict(X_test).astype(int)\n",
    "\n",
    "df_sample_sub.loc[:, 'Survived'] = y_preds_RF\n",
    "df_sample_sub.to_csv('submission1.csv', index=False)\n",
    "display(df_sample_sub.head())\n",
    "\n"
   ]
  },
  {
   "cell_type": "markdown",
   "metadata": {
    "papermill": {
     "duration": 0.054604,
     "end_time": "2020-10-12T04:54:17.888131",
     "exception": false,
     "start_time": "2020-10-12T04:54:17.833527",
     "status": "completed"
    },
    "tags": []
   },
   "source": [
    "<a id=\"323\"></a>\n",
    "### Logistic Regression Classifier"
   ]
  },
  {
   "cell_type": "code",
   "execution_count": 29,
   "metadata": {
    "execution": {
     "iopub.execute_input": "2020-10-12T04:54:18.005709Z",
     "iopub.status.busy": "2020-10-12T04:54:18.004815Z",
     "iopub.status.idle": "2020-10-12T04:54:18.034303Z",
     "shell.execute_reply": "2020-10-12T04:54:18.034926Z"
    },
    "papermill": {
     "duration": 0.093032,
     "end_time": "2020-10-12T04:54:18.035096",
     "exception": false,
     "start_time": "2020-10-12T04:54:17.942064",
     "status": "completed"
    },
    "tags": []
   },
   "outputs": [
    {
     "data": {
      "text/html": [
       "<div>\n",
       "<style scoped>\n",
       "    .dataframe tbody tr th:only-of-type {\n",
       "        vertical-align: middle;\n",
       "    }\n",
       "\n",
       "    .dataframe tbody tr th {\n",
       "        vertical-align: top;\n",
       "    }\n",
       "\n",
       "    .dataframe thead th {\n",
       "        text-align: right;\n",
       "    }\n",
       "</style>\n",
       "<table border=\"1\" class=\"dataframe\">\n",
       "  <thead>\n",
       "    <tr style=\"text-align: right;\">\n",
       "      <th></th>\n",
       "      <th>PassengerId</th>\n",
       "      <th>Survived</th>\n",
       "    </tr>\n",
       "  </thead>\n",
       "  <tbody>\n",
       "    <tr>\n",
       "      <th>0</th>\n",
       "      <td>892</td>\n",
       "      <td>0</td>\n",
       "    </tr>\n",
       "    <tr>\n",
       "      <th>1</th>\n",
       "      <td>893</td>\n",
       "      <td>1</td>\n",
       "    </tr>\n",
       "    <tr>\n",
       "      <th>2</th>\n",
       "      <td>894</td>\n",
       "      <td>0</td>\n",
       "    </tr>\n",
       "    <tr>\n",
       "      <th>3</th>\n",
       "      <td>895</td>\n",
       "      <td>0</td>\n",
       "    </tr>\n",
       "    <tr>\n",
       "      <th>4</th>\n",
       "      <td>896</td>\n",
       "      <td>1</td>\n",
       "    </tr>\n",
       "  </tbody>\n",
       "</table>\n",
       "</div>"
      ],
      "text/plain": [
       "   PassengerId  Survived\n",
       "0          892         0\n",
       "1          893         1\n",
       "2          894         0\n",
       "3          895         0\n",
       "4          896         1"
      ]
     },
     "metadata": {},
     "output_type": "display_data"
    }
   ],
   "source": [
    "clf2 = LogisticRegression(C=48, class_weight='None', fit_intercept= False, penalty='l2', solver='lbfgs')\n",
    "clf2.fit(X, y)\n",
    "\n",
    "y_preds_LR = clf2.predict(X_test).astype(int)\n",
    "\n",
    "df_sample_sub.loc[:, 'Survived'] = y_preds_LR\n",
    "df_sample_sub.to_csv('submission2.csv', index=False)\n",
    "display(df_sample_sub.head())\n"
   ]
  },
  {
   "cell_type": "markdown",
   "metadata": {
    "papermill": {
     "duration": 0.053903,
     "end_time": "2020-10-12T04:54:18.147691",
     "exception": false,
     "start_time": "2020-10-12T04:54:18.093788",
     "status": "completed"
    },
    "tags": []
   },
   "source": [
    "<a id=\"324\"></a>\n",
    "### XGBoost Classifier"
   ]
  },
  {
   "cell_type": "code",
   "execution_count": 30,
   "metadata": {
    "execution": {
     "iopub.execute_input": "2020-10-12T04:54:18.265212Z",
     "iopub.status.busy": "2020-10-12T04:54:18.264313Z",
     "iopub.status.idle": "2020-10-12T04:54:18.327804Z",
     "shell.execute_reply": "2020-10-12T04:54:18.328452Z"
    },
    "papermill": {
     "duration": 0.125221,
     "end_time": "2020-10-12T04:54:18.328629",
     "exception": false,
     "start_time": "2020-10-12T04:54:18.203408",
     "status": "completed"
    },
    "tags": []
   },
   "outputs": [
    {
     "data": {
      "text/html": [
       "<div>\n",
       "<style scoped>\n",
       "    .dataframe tbody tr th:only-of-type {\n",
       "        vertical-align: middle;\n",
       "    }\n",
       "\n",
       "    .dataframe tbody tr th {\n",
       "        vertical-align: top;\n",
       "    }\n",
       "\n",
       "    .dataframe thead th {\n",
       "        text-align: right;\n",
       "    }\n",
       "</style>\n",
       "<table border=\"1\" class=\"dataframe\">\n",
       "  <thead>\n",
       "    <tr style=\"text-align: right;\">\n",
       "      <th></th>\n",
       "      <th>PassengerId</th>\n",
       "      <th>Survived</th>\n",
       "    </tr>\n",
       "  </thead>\n",
       "  <tbody>\n",
       "    <tr>\n",
       "      <th>0</th>\n",
       "      <td>892</td>\n",
       "      <td>0</td>\n",
       "    </tr>\n",
       "    <tr>\n",
       "      <th>1</th>\n",
       "      <td>893</td>\n",
       "      <td>0</td>\n",
       "    </tr>\n",
       "    <tr>\n",
       "      <th>2</th>\n",
       "      <td>894</td>\n",
       "      <td>0</td>\n",
       "    </tr>\n",
       "    <tr>\n",
       "      <th>3</th>\n",
       "      <td>895</td>\n",
       "      <td>0</td>\n",
       "    </tr>\n",
       "    <tr>\n",
       "      <th>4</th>\n",
       "      <td>896</td>\n",
       "      <td>1</td>\n",
       "    </tr>\n",
       "  </tbody>\n",
       "</table>\n",
       "</div>"
      ],
      "text/plain": [
       "   PassengerId  Survived\n",
       "0          892         0\n",
       "1          893         0\n",
       "2          894         0\n",
       "3          895         0\n",
       "4          896         1"
      ]
     },
     "metadata": {},
     "output_type": "display_data"
    }
   ],
   "source": [
    "clf3 = XGBClassifier(booster='gbtree', colsample_bytree= 0.6,\n",
    "                    gamma=1, max_depth=5, min_child_weight=1, n_estimators=100, subsample=0.8)\n",
    "\n",
    "clf3.fit(X, y)\n",
    "y_preds_xgb = clf3.predict(X_test).astype(int)\n",
    "\n",
    "df_sample_sub.loc[:, 'Survived'] = y_preds_xgb\n",
    "df_sample_sub.to_csv('submission3.csv', index=False)\n",
    "display(df_sample_sub.head())\n"
   ]
  },
  {
   "cell_type": "markdown",
   "metadata": {
    "papermill": {
     "duration": 0.072662,
     "end_time": "2020-10-12T04:54:18.474589",
     "exception": false,
     "start_time": "2020-10-12T04:54:18.401927",
     "status": "completed"
    },
    "tags": []
   },
   "source": [
    "<a id=\"33\"></a>\n",
    "\n",
    "## Deep Neural Network (Keras)"
   ]
  },
  {
   "cell_type": "code",
   "execution_count": 31,
   "metadata": {
    "execution": {
     "iopub.execute_input": "2020-10-12T04:54:18.606369Z",
     "iopub.status.busy": "2020-10-12T04:54:18.604688Z",
     "iopub.status.idle": "2020-10-12T04:54:25.083403Z",
     "shell.execute_reply": "2020-10-12T04:54:25.082776Z"
    },
    "papermill": {
     "duration": 6.543637,
     "end_time": "2020-10-12T04:54:25.083536",
     "exception": false,
     "start_time": "2020-10-12T04:54:18.539899",
     "status": "completed"
    },
    "tags": []
   },
   "outputs": [
    {
     "data": {
      "image/png": "[encoded data removed]",
      "text/plain": [
       "<IPython.core.display.Image object>"
      ]
     },
     "execution_count": 31,
     "metadata": {},
     "output_type": "execute_result"
    }
   ],
   "source": [
    "import tensorflow as tf\n",
    "import tensorflow_addons as tfa\n",
    "import tensorflow.keras.backend as K\n",
    "def create_model(hid_layers ,dropout_rate, lr):\n",
    "    \n",
    "    inp1 = tf.keras.layers.Input(shape = (X.shape[1], ))\n",
    "    x1 = tf.keras.layers.BatchNormalization()(inp1)\n",
    "    \n",
    "    for i, units in enumerate(hid_layers):\n",
    "        x1 = tf.keras.layers.Dense(units, activation='relu')(x1)\n",
    "        x1 = tf.keras.layers.Dropout(dropout_rate)(x1)    \n",
    "    x1 = tf.keras.layers.Dense(1, activation='sigmoid')(x1)\n",
    "    \n",
    "    model = tf.keras.models.Model(inputs= inp1, outputs= x1)\n",
    "    \n",
    "    model.compile(optimizer =\"adam\", loss='binary_crossentropy', metrics='accuracy')\n",
    "    \n",
    "    return model \n",
    "    \n",
    "    \n",
    "lr=1e-5\n",
    "hid_layers = [256, 256]\n",
    "dr = 0.5\n",
    "model = create_model(hid_layers, dr, lr)\n",
    "\n",
    "tf.keras.utils.plot_model(model, show_shapes = True, show_layer_names= False,\n",
    "                          rankdir = 'TB', expand_nested = True)\n",
    "\n"
   ]
  },
  {
   "cell_type": "code",
   "execution_count": 32,
   "metadata": {
    "execution": {
     "iopub.execute_input": "2020-10-12T04:54:25.214162Z",
     "iopub.status.busy": "2020-10-12T04:54:25.206731Z",
     "iopub.status.idle": "2020-10-12T04:54:36.071325Z",
     "shell.execute_reply": "2020-10-12T04:54:36.070814Z"
    },
    "papermill": {
     "duration": 10.93133,
     "end_time": "2020-10-12T04:54:36.071460",
     "exception": false,
     "start_time": "2020-10-12T04:54:25.140130",
     "status": "completed"
    },
    "tags": []
   },
   "outputs": [
    {
     "name": "stdout",
     "output_type": "stream",
     "text": [
      "fold 0: 0.8379888534545898\n",
      "fold 1: 0.8314606547355652\n",
      "fold 2: 0.8483145833015442\n",
      "fold 3: 0.8146067261695862\n",
      "fold 4: 0.9101123809814453\n",
      "Accuracy: 0.85 (+/- 0.07)\n"
     ]
    }
   ],
   "source": [
    "from tensorflow.keras.callbacks import ReduceLROnPlateau, ModelCheckpoint, EarlyStopping\n",
    "df_sub_copy = df_sample_sub.copy()\n",
    "df_sub_copy.loc[:, 'Survived'] = 0.0\n",
    "\n",
    "\n",
    "scores=[]\n",
    "fold = 0\n",
    "for tr, val in KFold(n_splits=5, random_state=42).split(X,y):\n",
    "    X_train = X[tr]\n",
    "    X_val = X[val]\n",
    "    y_train = y[tr]\n",
    "    y_val = y[val]\n",
    "    rlr = ReduceLROnPlateau(monitor = 'val_loss', factor = 0.2, patience = 3, verbose = 0, \n",
    "                                min_delta = 1e-4, min_lr = 1e-6, mode = 'min')\n",
    "        \n",
    "    ckp = ModelCheckpoint(f'bests_weights.hdf5', monitor = 'val_loss', verbose = 0, \n",
    "                              save_best_only = True, save_weights_only = True, mode = 'min')\n",
    "        \n",
    "    es = EarlyStopping(monitor = 'val_loss', min_delta = 1e-4, patience = 15, mode = 'min', \n",
    "                           baseline = None, restore_best_weights = True, verbose = 0)\n",
    "    \n",
    "    history = model.fit(X_train, y_train, validation_data=(X_val, y_val), callbacks=[rlr,ckp,es],\n",
    "                        epochs=300, verbose=0)\n",
    "    scores.append(np.max(history.history['val_accuracy']))\n",
    "        \n",
    "    model.load_weights(f'bests_weights.hdf5')\n",
    "    y_preds_nn = model.predict(X_test)\n",
    "    df_sub_copy.loc[:, 'Survived'] += y_preds_nn.reshape(-1)\n",
    "    print(f'fold',str(fold)+':',scores[fold])\n",
    "    K.clear_session()\n",
    "    fold+=1\n",
    "print(\"Accuracy: %0.2f (+/- %0.2f)\" % (np.mean(scores), np.std(scores) * 2))"
   ]
  },
  {
   "cell_type": "code",
   "execution_count": 33,
   "metadata": {
    "execution": {
     "iopub.execute_input": "2020-10-12T04:54:36.201658Z",
     "iopub.status.busy": "2020-10-12T04:54:36.200939Z",
     "iopub.status.idle": "2020-10-12T04:54:36.208321Z",
     "shell.execute_reply": "2020-10-12T04:54:36.207761Z"
    },
    "papermill": {
     "duration": 0.077779,
     "end_time": "2020-10-12T04:54:36.208468",
     "exception": false,
     "start_time": "2020-10-12T04:54:36.130689",
     "status": "completed"
    },
    "tags": []
   },
   "outputs": [
    {
     "data": {
      "text/html": [
       "<div>\n",
       "<style scoped>\n",
       "    .dataframe tbody tr th:only-of-type {\n",
       "        vertical-align: middle;\n",
       "    }\n",
       "\n",
       "    .dataframe tbody tr th {\n",
       "        vertical-align: top;\n",
       "    }\n",
       "\n",
       "    .dataframe thead th {\n",
       "        text-align: right;\n",
       "    }\n",
       "</style>\n",
       "<table border=\"1\" class=\"dataframe\">\n",
       "  <thead>\n",
       "    <tr style=\"text-align: right;\">\n",
       "      <th></th>\n",
       "      <th>PassengerId</th>\n",
       "      <th>Survived</th>\n",
       "    </tr>\n",
       "  </thead>\n",
       "  <tbody>\n",
       "    <tr>\n",
       "      <th>0</th>\n",
       "      <td>892</td>\n",
       "      <td>0</td>\n",
       "    </tr>\n",
       "    <tr>\n",
       "      <th>1</th>\n",
       "      <td>893</td>\n",
       "      <td>1</td>\n",
       "    </tr>\n",
       "    <tr>\n",
       "      <th>2</th>\n",
       "      <td>894</td>\n",
       "      <td>0</td>\n",
       "    </tr>\n",
       "    <tr>\n",
       "      <th>3</th>\n",
       "      <td>895</td>\n",
       "      <td>0</td>\n",
       "    </tr>\n",
       "    <tr>\n",
       "      <th>4</th>\n",
       "      <td>896</td>\n",
       "      <td>1</td>\n",
       "    </tr>\n",
       "  </tbody>\n",
       "</table>\n",
       "</div>"
      ],
      "text/plain": [
       "   PassengerId  Survived\n",
       "0          892         0\n",
       "1          893         1\n",
       "2          894         0\n",
       "3          895         0\n",
       "4          896         1"
      ]
     },
     "metadata": {},
     "output_type": "display_data"
    }
   ],
   "source": [
    "# NN submission\n",
    "df_sample_sub.loc[:, 'Survived'] = (np.round(df_sub_copy.loc[:,'Survived']/ 5)).astype(int)\n",
    "display(df_sample_sub.head())\n",
    "df_sample_sub.to_csv('submission4.csv', index=False)\n"
   ]
  },
  {
   "cell_type": "markdown",
   "metadata": {
    "papermill": {
     "duration": 0.059668,
     "end_time": "2020-10-12T04:54:36.327773",
     "exception": false,
     "start_time": "2020-10-12T04:54:36.268105",
     "status": "completed"
    },
    "tags": []
   },
   "source": [
    "<a id=\"34\"></a>\n",
    "## Voting Classifier\n",
    "\n",
    "Here we ask our 5 classifiers to vote for every passenger. The result is probably better than single models."
   ]
  },
  {
   "cell_type": "code",
   "execution_count": 34,
   "metadata": {
    "execution": {
     "iopub.execute_input": "2020-10-12T04:54:36.455248Z",
     "iopub.status.busy": "2020-10-12T04:54:36.452050Z",
     "iopub.status.idle": "2020-10-12T04:54:36.473030Z",
     "shell.execute_reply": "2020-10-12T04:54:36.472386Z"
    },
    "papermill": {
     "duration": 0.086222,
     "end_time": "2020-10-12T04:54:36.473144",
     "exception": false,
     "start_time": "2020-10-12T04:54:36.386922",
     "status": "completed"
    },
    "tags": []
   },
   "outputs": [
    {
     "data": {
      "text/html": [
       "<div>\n",
       "<style scoped>\n",
       "    .dataframe tbody tr th:only-of-type {\n",
       "        vertical-align: middle;\n",
       "    }\n",
       "\n",
       "    .dataframe tbody tr th {\n",
       "        vertical-align: top;\n",
       "    }\n",
       "\n",
       "    .dataframe thead th {\n",
       "        text-align: right;\n",
       "    }\n",
       "</style>\n",
       "<table border=\"1\" class=\"dataframe\">\n",
       "  <thead>\n",
       "    <tr style=\"text-align: right;\">\n",
       "      <th></th>\n",
       "      <th>PassengerId</th>\n",
       "      <th>Survived</th>\n",
       "    </tr>\n",
       "  </thead>\n",
       "  <tbody>\n",
       "    <tr>\n",
       "      <th>0</th>\n",
       "      <td>892</td>\n",
       "      <td>0</td>\n",
       "    </tr>\n",
       "    <tr>\n",
       "      <th>1</th>\n",
       "      <td>893</td>\n",
       "      <td>1</td>\n",
       "    </tr>\n",
       "    <tr>\n",
       "      <th>2</th>\n",
       "      <td>894</td>\n",
       "      <td>0</td>\n",
       "    </tr>\n",
       "    <tr>\n",
       "      <th>3</th>\n",
       "      <td>895</td>\n",
       "      <td>0</td>\n",
       "    </tr>\n",
       "    <tr>\n",
       "      <th>4</th>\n",
       "      <td>896</td>\n",
       "      <td>1</td>\n",
       "    </tr>\n",
       "  </tbody>\n",
       "</table>\n",
       "</div>"
      ],
      "text/plain": [
       "   PassengerId  Survived\n",
       "0          892         0\n",
       "1          893         1\n",
       "2          894         0\n",
       "3          895         0\n",
       "4          896         1"
      ]
     },
     "metadata": {},
     "output_type": "display_data"
    }
   ],
   "source": [
    "sub0= pd.read_csv('submission0.csv')\n",
    "sub1 = pd.read_csv('submission1.csv')\n",
    "sub2 = pd.read_csv('submission2.csv')\n",
    "sub3 = pd.read_csv('submission3.csv')\n",
    "sub4 = pd.read_csv('submission4.csv')\n",
    "\n",
    "sub_vot = np.round((sub0['Survived']+sub1['Survived']+sub2['Survived']+sub3['Survived']+sub4['Survived'])/5).astype(int)\n",
    "df_sample_sub.loc[:, 'Survived'] = sub_vot\n",
    "df_sample_sub.to_csv('submission5.csv', index=False)\n",
    "display(df_sample_sub.head())"
   ]
  },
  {
   "cell_type": "markdown",
   "metadata": {
    "id": "juIs84h9nN7Y",
    "papermill": {
     "duration": 0.06063,
     "end_time": "2020-10-12T04:54:36.592934",
     "exception": false,
     "start_time": "2020-10-12T04:54:36.532304",
     "status": "completed"
    },
    "tags": []
   },
   "source": [
    "<a id=\"4\"></a>\n",
    "<div class=\"list-group\" id=\"list-tab\" role=\"tablist\">\n",
    "<h2 class=\"list-group-item list-group-item-action active\" data-toggle=\"list\" style='background:red; border:0; color:white' role=\"tab\" aria-controls=\"home\"><center>Summary</center></h2>\n",
    "\n",
    "In this project, we first performed explanatory data analysis and investigated each feature individually. We engineered two new features out of names and cabin. We filled the missing values based on a reasonable approach. For example, age is filled with median of each group based on their P-class, Sex and Title. After cleaning the dataset, we normalized the data to be in a range of (0,1) and then implemented two machine learning models, Logistic Regression and Ridge classifier, from scratch. We then implemented Logistic Regression, Random Forest and XGBoost using scikit-learn library and a deep neural network using Keras on Tensorflow. We used hyperparameter tuning to find the best parameters for our models, and used KFold cross validation technique. At last, we used a voting classifier to take into account each classifier's output. Please note that different models or feature engineering may result in better outcome.<font size=\"4\"> \n",
    "    <b> Please upvote this kernel if it was useful :) </b></font>"
   ]
  }
 ],
 "metadata": {
  "kernelspec": {
   "display_name": "Python 3",
   "language": "python",
   "name": "python3"
  },
  "language_info": {
   "codemirror_mode": {
    "name": "ipython",
    "version": 3
   },
   "file_extension": ".py",
   "mimetype": "text/x-python",
   "name": "python",
   "nbconvert_exporter": "python",
   "pygments_lexer": "ipython3",
   "version": "3.7.6"
  },
  "papermill": {
   "duration": 69.394821,
   "end_time": "2020-10-12T04:54:36.767616",
   "environment_variables": {},
   "exception": null,
   "input_path": "__notebook__.ipynb",
   "output_path": "__notebook__.ipynb",
   "parameters": {},
   "start_time": "2020-10-12T04:53:27.372795",
   "version": "2.1.0"
  }
 },
 "nbformat": 4,
 "nbformat_minor": 4
}
